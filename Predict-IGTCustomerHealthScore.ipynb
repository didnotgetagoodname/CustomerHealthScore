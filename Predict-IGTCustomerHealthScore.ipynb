{
    "metadata": {
        "language_info": {
            "name": "python", 
            "mimetype": "text/x-python", 
            "nbconvert_exporter": "python", 
            "pygments_lexer": "ipython2", 
            "codemirror_mode": {
                "name": "ipython", 
                "version": 2
            }, 
            "file_extension": ".py", 
            "version": "2.7.11"
        }, 
        "kernelspec": {
            "display_name": "Python 2 with Spark 2.0", 
            "name": "python2-spark20", 
            "language": "python"
        }
    }, 
    "nbformat_minor": 1, 
    "cells": [
        {
            "metadata": {}, 
            "source": "<table style=\"border: none\" align=\"left\">\n   <tr style=\"border: none\">\n      <th style=\"border: none\"><font face=\"verdana\" size=\"5\" color=\"black\"><b>Predict which Casino Operator will trend to a worse satisfaction score</b></th>\n      <th style=\"border: none\"><img src=\"https://github.com/didnotgetagoodname/CustomerHealthScore/blob/master/images/ml_icon_gray.png?raw=true\" alt=\"Watson Machine Learning icon\" height=\"40\" width=\"40\"></th>\n   </tr>\n   <tr style=\"border: none\">\n       <th style=\"border: none\"><img src=\"https://github.com/didnotgetagoodname/CustomerHealthScore/blob/master/images/GamingConsoles.png?raw=true\" alt=\"Icon\"> </th>\n   </tr>\n</table>", 
            "cell_type": "markdown"
        }, 
        {
            "metadata": {}, 
            "source": "This notebook contains steps and code to get data from the IBM Data Science Experience Community, create a predictive model, and start scoring new data. This notebook introduces commands for getting data and for basic data cleaning and exploration, pipeline creation, model training, model persistence to Watson Machine Learning repository, model deployment, and scoring.\n\nSome familiarity with Python is helpful. This notebook uses Python 2.0 and Apache\u00ae Spark 2.0.\n\nYou will use a publicly available data set, **GoSales Transactions for Naive Bayes Model**, which details anonymous outdoor equipment purchases. Use the details of this data set to predict clients' interests in terms of product line, such as golf accessories, camping equipment, and others.\n\n## Learning goals\n\nThe learning goals of this notebook are:\n\n-  Load a CSV file into an Apache\u00ae Spark DataFrame.\n-  Explore data.\n-  Prepare data for training and evaluation.\n-  Create an Apache\u00ae Spark machine learning pipeline.\n-  Train and evaluate a model.\n-  Persist a pipeline and model in Watson Machine Learning repository.\n-  Deploy a model for online scoring using Wastson Machine Learning API.\n-  Score sample scoring data using the Watson Machine Learning API.\n-  Explore and visualize prediction result using the Plotly package.\n\n\n## Contents\n\nThis notebook contains the following parts:\n\n1.\t[Setup](#setup)\n2.\t[Load and explore data](#load)\n3.\t[Create spark ml model](#model)\n4.\t[Persist the model](#persistence)\n5.\t[Predict locally and visualize](#visualization)\n6.\t[Deploy and score in a Cloud](#scoring)\n7.\t[Summary and next steps](#summary)", 
            "cell_type": "markdown"
        }, 
        {
            "metadata": {}, 
            "source": "<a id=\"setup\"></a>\n## 1. Setup\n\nBefore you use the sample code in this notebook, you must perform the following setup tasks:\n\n1.  Create a [Watson Machine Learning Service](https://console.ng.bluemix.net/catalog/services/ibm-watson-machine-learning/) instance (a free plan is offered). \n1.  Upload **GoSales Transactions** data as a data asset in IBM Data Science Experience.\n1.  Make sure that you are using a Spark 2.0 kernel.\n1.  Insert a project token. Click the *More* icon and then click *Insert project token*. A project token cell appears at the beginning of this notebook.\n1.  Run the project token cell by placing your cursor in the cell and then clicking *Run Cell, Select Below*.\n\n### Create the GoSales Transactions Data Asset  \n\nThe GOSales data is a freely available data set on the Data Science Experience home page.\n\n1.  Go to the [GoSales Transactions for Naive Bayes Model](https://apsportal.ibm.com/exchange/public/entry/view/8044492073eb964f46597b4be06ff5ea) data card on the Data Science Experience Community.\n2.  Click the link icon.\n4.  Select the link, copy it by pressing Ctrl+C, and then, click **Close**.\n5.  In the cell in the next section, replace the **link_to_data** variable value with the link.", 
            "cell_type": "markdown"
        }, 
        {
            "metadata": {}, 
            "source": "<a id=\"load\"></a>\n## 2. Load and explore data", 
            "cell_type": "markdown"
        }, 
        {
            "metadata": {}, 
            "source": "In this section you will load the data as an Apache\u00ae Spark DataFrame and perform a basic exploration.\n\nLoad the data to the Spark DataFrame by using *wget* to upload the data to gpfs and then run the *read* method. ", 
            "cell_type": "markdown"
        }, 
        {
            "metadata": {}, 
            "source": "**Example**: First, you need to install required packages. You can do it by running the following code. Run it only one time.<BR><BR>\n!pip install wget --user <BR>", 
            "cell_type": "markdown"
        }, 
        {
            "outputs": [
                {
                    "name": "stdout", 
                    "output_type": "stream", 
                    "text": "Collecting wget\n  Downloading wget-3.2.zip\nBuilding wheels for collected packages: wget\n  Running setup.py bdist_wheel for wget ... \u001b[?25ldone\n\u001b[?25h  Stored in directory: /gpfs/fs01/user/s2f2-3322bec04dbe0a-1e89be410b53/.cache/pip/wheels/6d/98/29/61ccc41148f871009126c2e844e26f73eeb25e12cca92228a5\nSuccessfully built wget\nInstalling collected packages: wget\nSuccessfully installed wget-3.2\n"
                }
            ], 
            "metadata": {}, 
            "source": "!pip install wget --user", 
            "cell_type": "code", 
            "execution_count": 1
        }, 
        {
            "outputs": [
                {
                    "data": {
                        "text/plain": "[Row(ACCOUNT_NAME=u'Golden Investment S.A.', COMPONENT_NAME=u'Account', HEALTHCARE_INDEX_WEIGHT=25, ATTRIBUTE_NAME=u'Retention Risk', ATTRIBUTE_WEIGHT=25, INDEX_SCORE=1, ATTRIBUTE_PCT_ALLOC=25, COMPONENT_PCT_ALLOC=25),\n Row(ACCOUNT_NAME=u'Olympic Casino Zolitudes', COMPONENT_NAME=u'Change Management', HEALTHCARE_INDEX_WEIGHT=8, ATTRIBUTE_NAME=u'Major Incidents Caused By Change', ATTRIBUTE_WEIGHT=20, INDEX_SCORE=1, ATTRIBUTE_PCT_ALLOC=22, COMPONENT_PCT_ALLOC=8),\n Row(ACCOUNT_NAME=u'Olympic Casino Jomas', COMPONENT_NAME=u'Change Management', HEALTHCARE_INDEX_WEIGHT=8, ATTRIBUTE_NAME=u'Major Incidents Caused By Change', ATTRIBUTE_WEIGHT=20, INDEX_SCORE=1, ATTRIBUTE_PCT_ALLOC=22, COMPONENT_PCT_ALLOC=8),\n Row(ACCOUNT_NAME=u'Olympic Casino Jelgava', COMPONENT_NAME=u'Change Management', HEALTHCARE_INDEX_WEIGHT=8, ATTRIBUTE_NAME=u'Major Incidents Caused By Change', ATTRIBUTE_WEIGHT=20, INDEX_SCORE=1, ATTRIBUTE_PCT_ALLOC=22, COMPONENT_PCT_ALLOC=8),\n Row(ACCOUNT_NAME=u'Casino Club Centro', COMPONENT_NAME=u'Change Management', HEALTHCARE_INDEX_WEIGHT=8, ATTRIBUTE_NAME=u'Major Incidents Caused By Change', ATTRIBUTE_WEIGHT=20, INDEX_SCORE=1, ATTRIBUTE_PCT_ALLOC=22, COMPONENT_PCT_ALLOC=8)]"
                    }, 
                    "metadata": {}, 
                    "output_type": "execute_result", 
                    "execution_count": 1
                }
            ], 
            "metadata": {}, 
            "source": "from pyspark.sql import SparkSession\n\n# @hidden_cell\n# This function is used to setup the access of Spark to your Object Storage. The definition contains your credentials.\n# You might want to remove those credentials before you share your notebook.\ndef set_hadoop_config_with_credentials_97e1dd1ddb5343648d8e3554121e273e(name):\n    \"\"\"This function sets the Hadoop configuration so it is possible to\n    access data from Bluemix Object Storage using Spark\"\"\"\n\n    prefix = 'fs.swift.service.' + name\n    hconf = sc._jsc.hadoopConfiguration()\n    hconf.set(prefix + '.auth.url', 'https://identity.open.softlayer.com'+'/v3/auth/tokens')\n    hconf.set(prefix + '.auth.endpoint.prefix', 'endpoints')\n    hconf.set(prefix + '.tenant', '4db5506ef8924ae5aa8ff08f75128ab9')\n    hconf.set(prefix + '.username', 'f10ae117e0ef4f3499f8d44d4e7d8877')\n    hconf.set(prefix + '.password', 'mR2wNI{.tmOUg1QG')\n    hconf.setInt(prefix + '.http.port', 8080)\n    hconf.set(prefix + '.region', 'dallas')\n    hconf.setBoolean(prefix + '.public', False)\n\n# you can choose any name\nname = 'keystone'\nset_hadoop_config_with_credentials_97e1dd1ddb5343648d8e3554121e273e(name)\n\nspark = SparkSession.builder.getOrCreate()\n\ndf_data = spark.read\\\n  .format('org.apache.spark.sql.execution.datasources.csv.CSVFileFormat')\\\n  .option('header', 'true')\\\n  .option('inferSchema', 'true')\\\n  .load('swift://IGTCHS.' + name + '/IGT_ACA_NaiveBayes.csv')\ndf_data.take(5)\n", 
            "cell_type": "code", 
            "execution_count": 1
        }, 
        {
            "metadata": {}, 
            "source": "The csv file `GoSales_Tx_NaiveBayes.csv` is available on gpfs now. Load the file to Apache\u00ae Spark DataFrame using code below.", 
            "cell_type": "markdown"
        }, 
        {
            "metadata": {}, 
            "source": "Explore the loaded data by using the following Apache\u00ae Spark DataFrame methods:\n-  print schema\n-  print top ten records\n-  count all records", 
            "cell_type": "markdown"
        }, 
        {
            "outputs": [
                {
                    "name": "stdout", 
                    "output_type": "stream", 
                    "text": "root\n |-- ACCOUNT_NAME: string (nullable = true)\n |-- COMPONENT_NAME: string (nullable = true)\n |-- HEALTHCARE_INDEX_WEIGHT: integer (nullable = true)\n |-- ATTRIBUTE_NAME: string (nullable = true)\n |-- ATTRIBUTE_WEIGHT: integer (nullable = true)\n |-- INDEX_SCORE: integer (nullable = true)\n |-- ATTRIBUTE_PCT_ALLOC: integer (nullable = true)\n |-- COMPONENT_PCT_ALLOC: integer (nullable = true)\n\n"
                }
            ], 
            "metadata": {}, 
            "source": "df_data.printSchema()", 
            "cell_type": "code", 
            "execution_count": 2
        }, 
        {
            "metadata": {}, 
            "source": "As you can see, the data contains five fields. PRODUCT_LINE field is the one we would like to predict (label).", 
            "cell_type": "markdown"
        }, 
        {
            "outputs": [
                {
                    "name": "stdout", 
                    "output_type": "stream", 
                    "text": "+--------------------+-----------------+-----------------------+--------------------+----------------+-----------+-------------------+-------------------+\n|        ACCOUNT_NAME|   COMPONENT_NAME|HEALTHCARE_INDEX_WEIGHT|      ATTRIBUTE_NAME|ATTRIBUTE_WEIGHT|INDEX_SCORE|ATTRIBUTE_PCT_ALLOC|COMPONENT_PCT_ALLOC|\n+--------------------+-----------------+-----------------------+--------------------+----------------+-----------+-------------------+-------------------+\n|Golden Investment...|          Account|                     25|      Retention Risk|              25|          1|                 25|                 25|\n|Olympic Casino Zo...|Change Management|                      8|Major Incidents C...|              20|          1|                 22|                  8|\n|Olympic Casino Jomas|Change Management|                      8|Major Incidents C...|              20|          1|                 22|                  8|\n|Olympic Casino Je...|Change Management|                      8|Major Incidents C...|              20|          1|                 22|                  8|\n|  Casino Club Centro|Change Management|                      8|Major Incidents C...|              20|          1|                 22|                  8|\n|Casino Club Calet...|Change Management|                      8|Major Incidents C...|              20|          1|                 22|                  8|\n|Casino Club S.A. ...|Change Management|                      8|Major Incidents C...|              20|          1|                 22|                  8|\n|Casinos del Litor...|Change Management|                      8|Major Incidents C...|              20|          1|                 22|                  8|\n|                Goya|Change Management|                      8|Major Incidents C...|              20|          1|                 22|                  8|\n| Casino de El Bolson|Change Management|                      8|Major Incidents C...|              20|         22|                 22|                  8|\n|Viva Bingo (Kolon...|Change Management|                      8|Major Incidents C...|              20|          1|                 22|                  8|\n|Viva Bingo (Centu...|Change Management|                      8|Major Incidents C...|              20|          1|                 22|                  8|\n|Ontario Lottery G...|Change Management|                      8|Major Incidents C...|              20|          1|                 22|                  8|\n|Viva Bingo (Atter...|Change Management|                      8|Major Incidents C...|              20|          1|                 22|                  8|\n|Grosvenor Casino ...|Change Management|                      8|Major Incidents C...|              20|          1|                 22|                  8|\n|Grosvenor Piccadilly|Change Management|                      8|Major Incidents C...|              20|          1|                 22|                  8|\n|Park Tower Casino...|Change Management|                      8|Major Incidents C...|              20|          1|                 22|                  8|\n|     Grosvenor Luton|Change Management|                      8|Major Incidents C...|              20|          1|                 22|                  8|\n|Casinos del Litor...|Change Management|                      8|Major Incidents C...|              20|          1|                 22|                  8|\n|         The Stables|Change Management|                      8|Major Incidents C...|              20|          1|                 22|                  8|\n+--------------------+-----------------+-----------------------+--------------------+----------------+-----------+-------------------+-------------------+\nonly showing top 20 rows\n\n"
                }
            ], 
            "metadata": {
                "scrolled": true
            }, 
            "source": "df_data.show()", 
            "cell_type": "code", 
            "execution_count": 3
        }, 
        {
            "outputs": [
                {
                    "data": {
                        "text/plain": "421260"
                    }, 
                    "metadata": {}, 
                    "output_type": "execute_result", 
                    "execution_count": 4
                }
            ], 
            "metadata": {}, 
            "source": "df_data.count()", 
            "cell_type": "code", 
            "execution_count": 4
        }, 
        {
            "metadata": {}, 
            "source": "As you can see, the data set contains 60252 records.", 
            "cell_type": "markdown"
        }, 
        {
            "metadata": {}, 
            "source": "<a id=\"model\"></a>\n## 3. Create an Apache\u00ae Spark machine learning model\n\nIn this section you will learn how to prepare data, create an Apache\u00ae Spark machine learning pipeline, and train a model.", 
            "cell_type": "markdown"
        }, 
        {
            "metadata": {}, 
            "source": "### 3.1: Prepare data\n\nSplit your data into the train, test, and predict data sets:", 
            "cell_type": "markdown"
        }, 
        {
            "outputs": [
                {
                    "name": "stdout", 
                    "output_type": "stream", 
                    "text": "Number of training records: 337176\nNumber of testing records : 75672\nNumber of prediction records : 8412\n"
                }
            ], 
            "metadata": {}, 
            "source": "splitted_data = df_data.randomSplit([0.8, 0.18, 0.02], 24)\ntrain_data = splitted_data[0]\ntest_data = splitted_data[1]\npredict_data = splitted_data[2]\n\nprint \"Number of training records: \" + str(train_data.count())\nprint \"Number of testing records : \" + str(test_data.count())\nprint \"Number of prediction records : \" + str(predict_data.count())", 
            "cell_type": "code", 
            "execution_count": 5
        }, 
        {
            "metadata": {}, 
            "source": "The data has been split into three data sets: \n\n-  The train data set, which is the largest group, is used for training.\n-  The test data set is used for model evaluation and to test the assumptions of the model.\n-  The predict data set is used for predictions.", 
            "cell_type": "markdown"
        }, 
        {
            "metadata": {}, 
            "source": "### 3.2: Create pipeline and train a model", 
            "cell_type": "markdown"
        }, 
        {
            "metadata": {}, 
            "source": "In this section you will create an Apache\u00ae Spark machine learning pipeline and then train the model.", 
            "cell_type": "markdown"
        }, 
        {
            "metadata": {}, 
            "source": "Import the Apache\u00ae Spark machine learning packages that you'll need in the subsequent steps:", 
            "cell_type": "markdown"
        }, 
        {
            "outputs": [], 
            "metadata": {
                "collapsed": true
            }, 
            "source": "from pyspark.ml.feature import OneHotEncoder, StringIndexer, IndexToString, VectorAssembler\nfrom pyspark.ml.classification import RandomForestClassifier\nfrom pyspark.ml.evaluation import MulticlassClassificationEvaluator\nfrom pyspark.ml import Pipeline, Model", 
            "cell_type": "code", 
            "execution_count": 6
        }, 
        {
            "metadata": {}, 
            "source": "Convert all the string fields to numeric ones by using the StringIndexer transformer:", 
            "cell_type": "markdown"
        }, 
        {
            "outputs": [], 
            "metadata": {
                "collapsed": true
            }, 
            "source": "stringIndexer_label = StringIndexer(inputCol=\"ACCOUNT_NAME\", outputCol=\"label\").fit(df_data)\nstringIndexer_prof = StringIndexer(inputCol=\"COMPONENT_NAME\", outputCol=\"COMPONENT_IX\")\nstringIndexer_gend = StringIndexer(inputCol=\"ATTRIBUTE_NAME\", outputCol=\"ATTRIBUTE_IX\")", 
            "cell_type": "code", 
            "execution_count": 7
        }, 
        {
            "metadata": {}, 
            "source": "Create a feature vector by combining all features together:", 
            "cell_type": "markdown"
        }, 
        {
            "outputs": [], 
            "metadata": {
                "collapsed": true
            }, 
            "source": "vectorAssembler_features = VectorAssembler(inputCols=[\"COMPONENT_IX\", \"INDEX_SCORE\", \"ATTRIBUTE_IX\"], outputCol=\"features\")", 
            "cell_type": "code", 
            "execution_count": 8
        }, 
        {
            "metadata": {}, 
            "source": "Next, define the estimators you want to use for classification. Random Forest is used in the following example.", 
            "cell_type": "markdown"
        }, 
        {
            "outputs": [], 
            "metadata": {
                "collapsed": true
            }, 
            "source": "rf = RandomForestClassifier(labelCol=\"label\", featuresCol=\"features\")", 
            "cell_type": "code", 
            "execution_count": 9
        }, 
        {
            "metadata": {}, 
            "source": "Finally, convert indexed labels back to original labels:", 
            "cell_type": "markdown"
        }, 
        {
            "outputs": [], 
            "metadata": {
                "collapsed": true
            }, 
            "source": "labelConverter = IndexToString(inputCol=\"prediction\", outputCol=\"predictedLabel\", labels=stringIndexer_label.labels)", 
            "cell_type": "code", 
            "execution_count": 10
        }, 
        {
            "metadata": {}, 
            "source": "Now build the pipeline. A pipeline consists of transformers and an estimator.", 
            "cell_type": "markdown"
        }, 
        {
            "outputs": [], 
            "metadata": {
                "collapsed": true
            }, 
            "source": "pipeline_rf = Pipeline(stages=[stringIndexer_label, stringIndexer_prof, stringIndexer_gend, vectorAssembler_features, rf, labelConverter])", 
            "cell_type": "code", 
            "execution_count": 11
        }, 
        {
            "metadata": {}, 
            "source": "Train your Random Forest model by using your pipeline with the train_data set.", 
            "cell_type": "markdown"
        }, 
        {
            "outputs": [
                {
                    "name": "stdout", 
                    "output_type": "stream", 
                    "text": "root\n |-- ACCOUNT_NAME: string (nullable = true)\n |-- COMPONENT_NAME: string (nullable = true)\n |-- HEALTHCARE_INDEX_WEIGHT: integer (nullable = true)\n |-- ATTRIBUTE_NAME: string (nullable = true)\n |-- ATTRIBUTE_WEIGHT: integer (nullable = true)\n |-- INDEX_SCORE: integer (nullable = true)\n |-- ATTRIBUTE_PCT_ALLOC: integer (nullable = true)\n |-- COMPONENT_PCT_ALLOC: integer (nullable = true)\n\n"
                }
            ], 
            "metadata": {
                "scrolled": true
            }, 
            "source": "train_data.printSchema()", 
            "cell_type": "code", 
            "execution_count": 12
        }, 
        {
            "outputs": [], 
            "metadata": {
                "scrolled": false, 
                "collapsed": true
            }, 
            "source": "model_rf = pipeline_rf.fit(train_data)", 
            "cell_type": "code", 
            "execution_count": 13
        }, 
        {
            "metadata": {}, 
            "source": "You can check your **model accuracy** now. Evaluate the model with the test_data set.", 
            "cell_type": "markdown"
        }, 
        {
            "outputs": [
                {
                    "name": "stdout", 
                    "output_type": "stream", 
                    "text": "Accuracy = 0.0110873\nTest Error = 0.988913\n"
                }
            ], 
            "metadata": {}, 
            "source": "predictions = model_rf.transform(test_data)\nevaluatorRF = MulticlassClassificationEvaluator(labelCol=\"label\", predictionCol=\"prediction\", metricName=\"accuracy\")\naccuracy = evaluatorRF.evaluate(predictions)\nprint(\"Accuracy = %g\" % accuracy)\nprint(\"Test Error = %g\" % (1.0 - accuracy))", 
            "cell_type": "code", 
            "execution_count": 14
        }, 
        {
            "metadata": {
                "collapsed": true
            }, 
            "source": "You can now tune your model to achieve better accuracy. For simplicity, the tuning section is omitted from this example.", 
            "cell_type": "markdown"
        }, 
        {
            "metadata": {
                "collapsed": true
            }, 
            "source": "<a id=\"persistence\"></a>\n## 4. Persist the model", 
            "cell_type": "markdown"
        }, 
        {
            "metadata": {}, 
            "source": "In this section you will learn how to store your pipeline and model in Watson Machine Learning repository by using Python client libraries.", 
            "cell_type": "markdown"
        }, 
        {
            "metadata": {
                "collapsed": true
            }, 
            "source": "First, you must import client libraries.", 
            "cell_type": "markdown"
        }, 
        {
            "outputs": [], 
            "metadata": {
                "collapsed": true
            }, 
            "source": "from repository.mlrepositoryclient import MLRepositoryClient\nfrom repository.mlrepositoryartifact import MLRepositoryArtifact", 
            "cell_type": "code", 
            "execution_count": 15
        }, 
        {
            "metadata": {}, 
            "source": "Put your authentication information from your instance of the Watson Machine Learning service on Bluemix in the next cell. You can find your information on the **Service Credentials** tab of your service instance in Bluemix.", 
            "cell_type": "markdown"
        }, 
        {
            "outputs": [], 
            "metadata": {
                "collapsed": true
            }, 
            "source": "service_path = 'https://ibm-watson-ml.mybluemix.net'\nusername = 'f469768b-556a-4e59-92f5-30437c5e5dbe'\npassword = '9d8149fb-cc1b-44e0-a142-17e051a395fb'\n", 
            "cell_type": "code", 
            "execution_count": 16
        }, 
        {
            "metadata": {}, 
            "source": "Authorize the repository client:", 
            "cell_type": "markdown"
        }, 
        {
            "outputs": [], 
            "metadata": {
                "collapsed": true
            }, 
            "source": "ml_repository_client = MLRepositoryClient(service_path)\nml_repository_client.authorize(username, password)", 
            "cell_type": "code", 
            "execution_count": 17
        }, 
        {
            "metadata": {}, 
            "source": "Create the model artifact (abstraction layer).", 
            "cell_type": "markdown"
        }, 
        {
            "outputs": [], 
            "metadata": {}, 
            "source": "model_artifact = MLRepositoryArtifact(model_rf, training_data=train_data, name=\"IGT Customer Health Score Prediction Model\")", 
            "cell_type": "code", 
            "execution_count": 18
        }, 
        {
            "metadata": {}, 
            "source": "**Tip**: The MLRepositoryArtifact method expects a trained model object, training data, and a model name. (It is this model name that is displayed by the Watson Machine Learning service).", 
            "cell_type": "markdown"
        }, 
        {
            "metadata": {}, 
            "source": "### 4.1: Save the pipeline and model", 
            "cell_type": "markdown"
        }, 
        {
            "metadata": {}, 
            "source": "Save pipeline and model artifacts to your Watson Machine Learning instance:", 
            "cell_type": "markdown"
        }, 
        {
            "outputs": [], 
            "metadata": {
                "collapsed": true
            }, 
            "source": "saved_model = ml_repository_client.models.save(model_artifact)", 
            "cell_type": "code", 
            "execution_count": 19
        }, 
        {
            "metadata": {}, 
            "source": "Get the saved model metadata from Watson Machine Learning. Use the *meta.available_props()* method to get the list of available props.", 
            "cell_type": "markdown"
        }, 
        {
            "outputs": [
                {
                    "data": {
                        "text/plain": "['inputDataSchema',\n 'evaluationMetrics',\n 'pipelineVersionHref',\n 'modelVersionHref',\n 'trainingDataRef',\n 'pipelineType',\n 'creationTime',\n 'lastUpdated',\n 'label',\n 'authorEmail',\n 'trainingDataSchema',\n 'authorName',\n 'version',\n 'modelType',\n 'runtime',\n 'evaluationMethod']"
                    }, 
                    "metadata": {}, 
                    "output_type": "execute_result", 
                    "execution_count": 20
                }
            ], 
            "metadata": {}, 
            "source": "saved_model.meta.available_props()", 
            "cell_type": "code", 
            "execution_count": 20
        }, 
        {
            "outputs": [
                {
                    "name": "stdout", 
                    "output_type": "stream", 
                    "text": "modelType: sparkml-model-2.0\ntrainingDataSchema: {u'fields': [{u'nullable': True, u'type': u'string', u'name': u'ACCOUNT_NAME', u'metadata': {}}, {u'nullable': True, u'type': u'string', u'name': u'COMPONENT_NAME', u'metadata': {}}, {u'nullable': True, u'type': u'integer', u'name': u'HEALTHCARE_INDEX_WEIGHT', u'metadata': {}}, {u'nullable': True, u'type': u'string', u'name': u'ATTRIBUTE_NAME', u'metadata': {}}, {u'nullable': True, u'type': u'integer', u'name': u'ATTRIBUTE_WEIGHT', u'metadata': {}}, {u'nullable': True, u'type': u'integer', u'name': u'INDEX_SCORE', u'metadata': {}}, {u'nullable': True, u'type': u'integer', u'name': u'ATTRIBUTE_PCT_ALLOC', u'metadata': {}}, {u'nullable': True, u'type': u'integer', u'name': u'COMPONENT_PCT_ALLOC', u'metadata': {}}], u'type': u'struct'}\ncreationTime: 2017-07-11 05:22:08.820000+00:00\nmodelVersionHref: https://ibm-watson-ml.mybluemix.net/v2/artifacts/models/f2c021cf-838b-4010-9cc1-ffb8e3c65ac4/versions/2164d8c5-761a-4293-8b56-01221e72d4d8\nlabel: ACCOUNT_NAME\n"
                }
            ], 
            "metadata": {}, 
            "source": "print \"modelType: \" + saved_model.meta.prop(\"modelType\")\nprint \"trainingDataSchema: \" + str(saved_model.meta.prop(\"trainingDataSchema\"))\nprint \"creationTime: \" + str(saved_model.meta.prop(\"creationTime\"))\nprint \"modelVersionHref: \" + saved_model.meta.prop(\"modelVersionHref\")\nprint \"label: \" + saved_model.meta.prop(\"label\")", 
            "cell_type": "code", 
            "execution_count": 21
        }, 
        {
            "metadata": {}, 
            "source": "**Tip**: **modelVersionHref** is our model unique indentifier in the Watson Machine Learning repository.", 
            "cell_type": "markdown"
        }, 
        {
            "metadata": {}, 
            "source": "### 4.2: Load the model", 
            "cell_type": "markdown"
        }, 
        {
            "metadata": {}, 
            "source": "Load the saved model from the specified instance of Watson Machine Learning:", 
            "cell_type": "markdown"
        }, 
        {
            "outputs": [], 
            "metadata": {
                "collapsed": true
            }, 
            "source": "loadedModelArtifact = ml_repository_client.models.get(saved_model.uid)", 
            "cell_type": "code", 
            "execution_count": 22
        }, 
        {
            "metadata": {}, 
            "source": "You can print for example model name to make sure that model has been loaded correctly.", 
            "cell_type": "markdown"
        }, 
        {
            "outputs": [
                {
                    "name": "stdout", 
                    "output_type": "stream", 
                    "text": "IGT Customer Health Score Prediction Model\n"
                }
            ], 
            "metadata": {}, 
            "source": "print str(loadedModelArtifact.name)", 
            "cell_type": "code", 
            "execution_count": 23
        }, 
        {
            "metadata": {}, 
            "source": "As you can see the name is correct. You have learned how save and load the model from Watson Machine Learning repository.", 
            "cell_type": "markdown"
        }, 
        {
            "metadata": {}, 
            "source": "<a id=\"visualization\"></a>\n## 5. Predict locally and visualize", 
            "cell_type": "markdown"
        }, 
        {
            "metadata": {}, 
            "source": "In this section you will learn how to score test data using loaded model and visualize the prediction results with the Plotly package.", 
            "cell_type": "markdown"
        }, 
        {
            "metadata": {}, 
            "source": "### 5.1: Make a local prediction using previously loaded model and test data", 
            "cell_type": "markdown"
        }, 
        {
            "metadata": {}, 
            "source": "Score the predict_data data set:", 
            "cell_type": "markdown"
        }, 
        {
            "outputs": [], 
            "metadata": {
                "collapsed": true
            }, 
            "source": "predictions = loadedModelArtifact.model_instance().transform(predict_data)", 
            "cell_type": "code", 
            "execution_count": 24
        }, 
        {
            "metadata": {}, 
            "source": "Preview the results by calling the *show()* method on the predictions DataFrame.", 
            "cell_type": "markdown"
        }, 
        {
            "outputs": [
                {
                    "name": "stdout", 
                    "output_type": "stream", 
                    "text": "+--------------------+-----------------+-----------------------+--------------------+----------------+-----------+-------------------+-------------------+-----+------------+------------+--------------+--------------------+--------------------+----------+--------------------+\n|        ACCOUNT_NAME|   COMPONENT_NAME|HEALTHCARE_INDEX_WEIGHT|      ATTRIBUTE_NAME|ATTRIBUTE_WEIGHT|INDEX_SCORE|ATTRIBUTE_PCT_ALLOC|COMPONENT_PCT_ALLOC|label|COMPONENT_IX|ATTRIBUTE_IX|      features|       rawPrediction|         probability|prediction|      predictedLabel|\n+--------------------+-----------------+-----------------------+--------------------+----------------+-----------+-------------------+-------------------+-----+------------+------------+--------------+--------------------+--------------------+----------+--------------------+\n|**Gold Rush Potch...|Change Management|                      8|            Removals|               5|          1|                  5|                  8|280.0|         0.0|        14.0|[0.0,1.0,14.0]|[0.08692674861192...|[0.00434633743059...|     147.0|     Casino Terrazur|\n|**Gold Rush Potch...|Change Management|                      8|            Removals|               5|          1|                  5|                  8|280.0|         0.0|        14.0|[0.0,1.0,14.0]|[0.08692674861192...|[0.00434633743059...|     147.0|     Casino Terrazur|\n|**Gold Rush Potch...|Change Management|                      8|Time Since Last M...|              10|          1|                 20|                  8|280.0|         0.0|        18.0|[0.0,1.0,18.0]|[0.08115312576578...|[0.00405765628828...|      27.0|Seneca Gaming Cor...|\n|**Gold Rush Potch...|Change Management|                      8|Unsuccessful Changes|              22|          1|                  5|                  8|280.0|         0.0|        13.0|[0.0,1.0,13.0]|[0.07480012838315...|[0.00374000641915...|       3.0|    Viking de Fr\u0329jus|\n|**Gold Rush Potch...|         Incident|                     55|Number of Major I...|              33|          1|                 33|                 55|280.0|         2.0|         6.0| [2.0,1.0,6.0]|[0.07608947256384...|[0.00380447362819...|      23.0|Casino Playa de l...|\n+--------------------+-----------------+-----------------------+--------------------+----------------+-----------+-------------------+-------------------+-----+------------+------------+--------------+--------------------+--------------------+----------+--------------------+\nonly showing top 5 rows\n\n"
                }
            ], 
            "metadata": {}, 
            "source": "predictions.show(5)", 
            "cell_type": "code", 
            "execution_count": 25
        }, 
        {
            "metadata": {}, 
            "source": "Tabulate a count to see which product line is the most popular:", 
            "cell_type": "markdown"
        }, 
        {
            "outputs": [
                {
                    "name": "stdout", 
                    "output_type": "stream", 
                    "text": "+--------------------+-----+\n|      predictedLabel|count|\n+--------------------+-----+\n| Casino de Jacobacci|    9|\n|               Macao|   10|\n|Galaxy Bingo Pavi...|   10|\n|Olympic Casino Zivju|   21|\n|   Hemingways Casino|  213|\n|Cherokee Nation E...|    5|\n|       Palace Casino|    5|\n| Casino de El Bolson|    3|\n|Holland Casino Gr...|   16|\n|Casino Municipale...|    7|\n|   Grosvenor Walsall|   49|\n|Gran Casino Aranjuez|   10|\n|    Masaris Chiclayo|    9|\n|Rainbow Casino Ca...|   11|\n|     Casino Terrazur|  335|\n|Casino de Rosario...|  101|\n|      IGT - Red Room|  336|\n|Pokagon Band of P...|   12|\n|Olympic Casino Ta...|    7|\n|       Empresas E.E.|    4|\n+--------------------+-----+\nonly showing top 20 rows\n\n"
                }
            ], 
            "metadata": {}, 
            "source": "predictions.select(\"predictedLabel\").groupBy(\"predictedLabel\").count().show()", 
            "cell_type": "code", 
            "execution_count": 26
        }, 
        {
            "metadata": {}, 
            "source": "### 5.2: Sample visualization of data with Plotly package", 
            "cell_type": "markdown"
        }, 
        {
            "metadata": {}, 
            "source": "In this subsection you will explore prediction results with Plotly, which is an online analytics and data visualization tool.", 
            "cell_type": "markdown"
        }, 
        {
            "metadata": {}, 
            "source": "**Example**: First, you need to install required packages. You can do it by running the following code. Run it only one time.<BR><BR>\n!pip install plotly --user <BR>\n!pip install cufflinks --user", 
            "cell_type": "markdown"
        }, 
        {
            "metadata": {}, 
            "source": "Import Plotly and other required packages.", 
            "cell_type": "markdown"
        }, 
        {
            "outputs": [
                {
                    "name": "stdout", 
                    "output_type": "stream", 
                    "text": "Requirement already satisfied: plotly in /gpfs/global_fs01/sym_shared/YPProdSpark/user/s2f2-3322bec04dbe0a-1e89be410b53/.local/lib/python2.7/site-packages\nRequirement already satisfied: decorator>=4.0.6 in /usr/local/src/bluemix_jupyter_bundle.v52/notebook/lib/python2.7/site-packages (from plotly)\nRequirement already satisfied: requests in /usr/local/src/bluemix_jupyter_bundle.v52/notebook/lib/python2.7/site-packages (from plotly)\nRequirement already satisfied: pytz in /usr/local/src/bluemix_jupyter_bundle.v52/notebook/lib/python2.7/site-packages (from plotly)\nRequirement already satisfied: nbformat>=4.2 in /usr/local/src/bluemix_jupyter_bundle.v52/notebook/lib/python2.7/site-packages (from plotly)\nRequirement already satisfied: six in /usr/local/src/bluemix_jupyter_bundle.v52/notebook/lib/python2.7/site-packages (from plotly)\nRequirement already satisfied: jsonschema!=2.5.0,>=2.4 in /usr/local/src/bluemix_jupyter_bundle.v52/notebook/lib/python2.7/site-packages (from nbformat>=4.2->plotly)\nRequirement already satisfied: traitlets>=4.1 in /usr/local/src/bluemix_jupyter_bundle.v52/notebook/lib/python2.7/site-packages (from nbformat>=4.2->plotly)\nRequirement already satisfied: jupyter-core in /usr/local/src/bluemix_jupyter_bundle.v52/notebook/lib/python2.7/site-packages (from nbformat>=4.2->plotly)\nRequirement already satisfied: ipython-genutils in /usr/local/src/bluemix_jupyter_bundle.v52/notebook/lib/python2.7/site-packages (from nbformat>=4.2->plotly)\nRequirement already satisfied: functools32; python_version == \"2.7\" in /usr/local/src/bluemix_jupyter_bundle.v52/notebook/lib/python2.7/site-packages (from jsonschema!=2.5.0,>=2.4->nbformat>=4.2->plotly)\nRequirement already satisfied: cufflinks in /gpfs/global_fs01/sym_shared/YPProdSpark/user/s2f2-3322bec04dbe0a-1e89be410b53/.local/lib/python2.7/site-packages\nRequirement already satisfied: plotly>=2.0.0 in /gpfs/global_fs01/sym_shared/YPProdSpark/user/s2f2-3322bec04dbe0a-1e89be410b53/.local/lib/python2.7/site-packages (from cufflinks)\nRequirement already satisfied: colorlover>=0.2 in /gpfs/global_fs01/sym_shared/YPProdSpark/user/s2f2-3322bec04dbe0a-1e89be410b53/.local/lib/python2.7/site-packages (from cufflinks)\nRequirement already satisfied: pandas in /usr/local/src/bluemix_jupyter_bundle.v52/notebook/lib/python2.7/site-packages (from cufflinks)\nRequirement already satisfied: decorator>=4.0.6 in /usr/local/src/bluemix_jupyter_bundle.v52/notebook/lib/python2.7/site-packages (from plotly>=2.0.0->cufflinks)\nRequirement already satisfied: requests in /usr/local/src/bluemix_jupyter_bundle.v52/notebook/lib/python2.7/site-packages (from plotly>=2.0.0->cufflinks)\nRequirement already satisfied: pytz in /usr/local/src/bluemix_jupyter_bundle.v52/notebook/lib/python2.7/site-packages (from plotly>=2.0.0->cufflinks)\nRequirement already satisfied: nbformat>=4.2 in /usr/local/src/bluemix_jupyter_bundle.v52/notebook/lib/python2.7/site-packages (from plotly>=2.0.0->cufflinks)\nRequirement already satisfied: six in /usr/local/src/bluemix_jupyter_bundle.v52/notebook/lib/python2.7/site-packages (from plotly>=2.0.0->cufflinks)\nRequirement already satisfied: python-dateutil in /usr/local/src/bluemix_jupyter_bundle.v52/notebook/lib/python2.7/site-packages (from pandas->cufflinks)\nRequirement already satisfied: numpy>=1.7.0 in /usr/local/src/bluemix_jupyter_bundle.v52/notebook/lib/python2.7/site-packages (from pandas->cufflinks)\nRequirement already satisfied: jsonschema!=2.5.0,>=2.4 in /usr/local/src/bluemix_jupyter_bundle.v52/notebook/lib/python2.7/site-packages (from nbformat>=4.2->plotly>=2.0.0->cufflinks)\nRequirement already satisfied: traitlets>=4.1 in /usr/local/src/bluemix_jupyter_bundle.v52/notebook/lib/python2.7/site-packages (from nbformat>=4.2->plotly>=2.0.0->cufflinks)\nRequirement already satisfied: jupyter-core in /usr/local/src/bluemix_jupyter_bundle.v52/notebook/lib/python2.7/site-packages (from nbformat>=4.2->plotly>=2.0.0->cufflinks)\nRequirement already satisfied: ipython-genutils in /usr/local/src/bluemix_jupyter_bundle.v52/notebook/lib/python2.7/site-packages (from nbformat>=4.2->plotly>=2.0.0->cufflinks)\nRequirement already satisfied: functools32; python_version == \"2.7\" in /usr/local/src/bluemix_jupyter_bundle.v52/notebook/lib/python2.7/site-packages (from jsonschema!=2.5.0,>=2.4->nbformat>=4.2->plotly>=2.0.0->cufflinks)\n"
                }
            ], 
            "metadata": {}, 
            "source": "!pip install plotly --user \n!pip install cufflinks --user", 
            "cell_type": "code", 
            "execution_count": 27
        }, 
        {
            "outputs": [
                {
                    "data": {
                        "text/vnd.plotly.v1+html": "<script>requirejs.config({paths: { 'plotly': ['https://cdn.plot.ly/plotly-latest.min']},});if(!window.Plotly) {{require(['plotly'],function(plotly) {window.Plotly=plotly;});}}</script>", 
                        "text/html": "<script>requirejs.config({paths: { 'plotly': ['https://cdn.plot.ly/plotly-latest.min']},});if(!window.Plotly) {{require(['plotly'],function(plotly) {window.Plotly=plotly;});}}</script>"
                    }, 
                    "metadata": {}, 
                    "output_type": "display_data"
                }
            ], 
            "metadata": {}, 
            "source": "import sys\nimport pandas\nimport plotly.plotly as py\nfrom plotly.offline import download_plotlyjs, init_notebook_mode, plot, iplot\nimport cufflinks as cf\nimport plotly.graph_objs as go\ninit_notebook_mode(connected=True)\nsys.path.append(\"\".join([os.environ[\"HOME\"]])) ", 
            "cell_type": "code", 
            "execution_count": 28
        }, 
        {
            "metadata": {}, 
            "source": "Convert the Apache Spark DataFrame to a Pandas DataFrame.", 
            "cell_type": "markdown"
        }, 
        {
            "outputs": [], 
            "metadata": {
                "collapsed": true
            }, 
            "source": "predictions_pdf = predictions.select(\"prediction\", \"predictedLabel\", \"COMPONENT_NAME\", \"INDEX_SCORE\", \"ATTRIBUTE_NAME\").toPandas()", 
            "cell_type": "code", 
            "execution_count": 29
        }, 
        {
            "metadata": {}, 
            "source": "Plot a pie chart that shows the predicted product-line interest.", 
            "cell_type": "markdown"
        }, 
        {
            "outputs": [
                {
                    "data": {
                        "text/vnd.plotly.v1+html": "<div id=\"a30066a2-1a53-4508-bf70-1ba26e6dde9a\" style=\"height: 525px; width: 100%;\" class=\"plotly-graph-div\"></div><script type=\"text/javascript\">require([\"plotly\"], function(Plotly) { window.PLOTLYENV=window.PLOTLYENV || {};window.PLOTLYENV.BASE_URL=\"https://plot.ly\";Plotly.newPlot(\"a30066a2-1a53-4508-bf70-1ba26e6dde9a\", [{\"type\": \"pie\", \"labels\": [\"7 Saltos S.A.\", \"Ajax Downs Slots at Racetracks\", \"Aspers Casino, Unit 19 Xscape\", \"Best Western Hickok House\", \"Bingo Royale Cleary Park\", \"Bob & Lucy's Tavern\", \"Casino Bagneres\", \"Casino Club Centro\", \"Casino Club Santa Rosa\", \"Casino Municipale Di Venezia SpA\", \"Casino Nadejda\", \"Casino Parque Hotel\", \"Casino Playa de las Americas\", \"Casino Ruhl\", \"Casino Terrazur\", \"Casino de El Bolson\", \"Casino de Jacobacci\", \"Casino de Rosario S.A\", \"Casino de Valras-Plage\", \"Cherokee Casino - West Siloam Springs\", \"Cherokee Nation Entertainment-Catoosa Op\", \"Deadwood Frontier\", \"Empresas E.E.\", \"Entretenimientos Patagonia S.A.\", \"Fernley Nugget\", \"Firekeepers Casino\", \"Galaxy Bingo East London\", \"Galaxy Bingo Pavilion\", \"Galaxy Bingo Port Elizabeth\", \"Ganagana Casinos SAC\", \"Golden Horse Casino\", \"Goldrush Bingo Rustenburg\", \"Goodlands Games Ltd\", \"Gran Casino Aranjuez\", \"Grosvenor Birmingham\", \"Grosvenor Casino Glasgow,\", \"Grosvenor Casino Leeds, Westgate\", \"Grosvenor Casino Salford\", \"Grosvenor Casino St. Giles\", \"Grosvenor Plymouth\", \"Grosvenor Scarborough\", \"Grosvenor Walsall\", \"Hemingways Casino\", \"Holland Casino Groningen\", \"Hotel Lan Kwai Fong (Macau) Limited\", \"IGT - Executive Briefing Center\", \"IGT - Red Room\", \"IGT Data Center - New Jersey\", \"Isle of Capri Casinos, Inc.\", \"Kickapoo Tribe of Oklahoma\", \"Las Pinas Slots Club\", \"Le Salon de Jeux de Quebec\", \"Macao\", \"Masaris Chiclayo\", \"Mocha Slot Management Limited\", \"Molly's #2\", \"Olympic Casino Ausekla\", \"Olympic Casino Barona\", \"Olympic Casino Brivibas\", \"Olympic Casino Expobel\", \"Olympic Casino Kuldigas\", \"Olympic Casino Marijas\", \"Olympic Casino Meksika\", \"Olympic Casino Passazh\", \"Olympic Casino Talava\", \"Olympic Casino Trnava\", \"Olympic Casino Zivju\", \"One Fire Casino\", \"Otoe - Missouria Tribe\", \"Palace Casino\", \"Pokagon Band of Potawatomi Indians\", \"Rainbow Casino Cardiff\", \"Resorts World at Sentosa Pte. Ltd.\", \"Seneca Gaming Corporation\", \"St Mesa Slots Club\", \"Suncoast Casino & Entertainment\", \"The Stables\", \"VFW Club\", \"Viking de Fr\\u0329jus\", \"Warehouse Fiesta Casino\", \"Widus International Leisure, Inc.\", \"Yakama Nation Legends Casino\"], \"values\": [11, 340, 3, 3, 6, 9, 184, 4, 8, 10, 20, 8, 3307, 7, 294, 1, 7, 76, 14, 8, 8, 8, 4, 10, 30, 112, 4, 5, 17, 27, 28, 86, 9, 7, 5, 24, 1, 8, 8, 403, 29, 45, 196, 24, 14, 33, 368, 28, 9, 13, 12, 6, 4, 9, 14, 6, 25, 2, 5, 6, 2, 1, 175, 13, 4, 7, 31, 8, 3, 2, 12, 6, 43, 342, 8, 55, 58, 103, 1561, 10, 2, 32]}], {\"title\": \"Predicted Casino Operator Score distribution\"}, {\"linkText\": \"Export to plot.ly\", \"showLink\": true})});</script>", 
                        "application/vnd.plotly.v1+json": {
                            "data": [
                                {
                                    "type": "pie", 
                                    "values": [
                                        11, 
                                        340, 
                                        3, 
                                        3, 
                                        6, 
                                        9, 
                                        184, 
                                        4, 
                                        8, 
                                        10, 
                                        20, 
                                        8, 
                                        3307, 
                                        7, 
                                        294, 
                                        1, 
                                        7, 
                                        76, 
                                        14, 
                                        8, 
                                        8, 
                                        8, 
                                        4, 
                                        10, 
                                        30, 
                                        112, 
                                        4, 
                                        5, 
                                        17, 
                                        27, 
                                        28, 
                                        86, 
                                        9, 
                                        7, 
                                        5, 
                                        24, 
                                        1, 
                                        8, 
                                        8, 
                                        403, 
                                        29, 
                                        45, 
                                        196, 
                                        24, 
                                        14, 
                                        33, 
                                        368, 
                                        28, 
                                        9, 
                                        13, 
                                        12, 
                                        6, 
                                        4, 
                                        9, 
                                        14, 
                                        6, 
                                        25, 
                                        2, 
                                        5, 
                                        6, 
                                        2, 
                                        1, 
                                        175, 
                                        13, 
                                        4, 
                                        7, 
                                        31, 
                                        8, 
                                        3, 
                                        2, 
                                        12, 
                                        6, 
                                        43, 
                                        342, 
                                        8, 
                                        55, 
                                        58, 
                                        103, 
                                        1561, 
                                        10, 
                                        2, 
                                        32
                                    ], 
                                    "labels": [
                                        "7 Saltos S.A.", 
                                        "Ajax Downs Slots at Racetracks", 
                                        "Aspers Casino, Unit 19 Xscape", 
                                        "Best Western Hickok House", 
                                        "Bingo Royale Cleary Park", 
                                        "Bob & Lucy's Tavern", 
                                        "Casino Bagneres", 
                                        "Casino Club Centro", 
                                        "Casino Club Santa Rosa", 
                                        "Casino Municipale Di Venezia SpA", 
                                        "Casino Nadejda", 
                                        "Casino Parque Hotel", 
                                        "Casino Playa de las Americas", 
                                        "Casino Ruhl", 
                                        "Casino Terrazur", 
                                        "Casino de El Bolson", 
                                        "Casino de Jacobacci", 
                                        "Casino de Rosario S.A", 
                                        "Casino de Valras-Plage", 
                                        "Cherokee Casino - West Siloam Springs", 
                                        "Cherokee Nation Entertainment-Catoosa Op", 
                                        "Deadwood Frontier", 
                                        "Empresas E.E.", 
                                        "Entretenimientos Patagonia S.A.", 
                                        "Fernley Nugget", 
                                        "Firekeepers Casino", 
                                        "Galaxy Bingo East London", 
                                        "Galaxy Bingo Pavilion", 
                                        "Galaxy Bingo Port Elizabeth", 
                                        "Ganagana Casinos SAC", 
                                        "Golden Horse Casino", 
                                        "Goldrush Bingo Rustenburg", 
                                        "Goodlands Games Ltd", 
                                        "Gran Casino Aranjuez", 
                                        "Grosvenor Birmingham", 
                                        "Grosvenor Casino Glasgow,", 
                                        "Grosvenor Casino Leeds, Westgate", 
                                        "Grosvenor Casino Salford", 
                                        "Grosvenor Casino St. Giles", 
                                        "Grosvenor Plymouth", 
                                        "Grosvenor Scarborough", 
                                        "Grosvenor Walsall", 
                                        "Hemingways Casino", 
                                        "Holland Casino Groningen", 
                                        "Hotel Lan Kwai Fong (Macau) Limited", 
                                        "IGT - Executive Briefing Center", 
                                        "IGT - Red Room", 
                                        "IGT Data Center - New Jersey", 
                                        "Isle of Capri Casinos, Inc.", 
                                        "Kickapoo Tribe of Oklahoma", 
                                        "Las Pinas Slots Club", 
                                        "Le Salon de Jeux de Quebec", 
                                        "Macao", 
                                        "Masaris Chiclayo", 
                                        "Mocha Slot Management Limited", 
                                        "Molly's #2", 
                                        "Olympic Casino Ausekla", 
                                        "Olympic Casino Barona", 
                                        "Olympic Casino Brivibas", 
                                        "Olympic Casino Expobel", 
                                        "Olympic Casino Kuldigas", 
                                        "Olympic Casino Marijas", 
                                        "Olympic Casino Meksika", 
                                        "Olympic Casino Passazh", 
                                        "Olympic Casino Talava", 
                                        "Olympic Casino Trnava", 
                                        "Olympic Casino Zivju", 
                                        "One Fire Casino", 
                                        "Otoe - Missouria Tribe", 
                                        "Palace Casino", 
                                        "Pokagon Band of Potawatomi Indians", 
                                        "Rainbow Casino Cardiff", 
                                        "Resorts World at Sentosa Pte. Ltd.", 
                                        "Seneca Gaming Corporation", 
                                        "St Mesa Slots Club", 
                                        "Suncoast Casino & Entertainment", 
                                        "The Stables", 
                                        "VFW Club", 
                                        "Viking de Fr\u0329jus", 
                                        "Warehouse Fiesta Casino", 
                                        "Widus International Leisure, Inc.", 
                                        "Yakama Nation Legends Casino"
                                    ]
                                }
                            ], 
                            "layout": {
                                "title": "Predicted Casino Operator Score distribution"
                            }
                        }, 
                        "text/html": "<div id=\"a30066a2-1a53-4508-bf70-1ba26e6dde9a\" style=\"height: 525px; width: 100%;\" class=\"plotly-graph-div\"></div><script type=\"text/javascript\">require([\"plotly\"], function(Plotly) { window.PLOTLYENV=window.PLOTLYENV || {};window.PLOTLYENV.BASE_URL=\"https://plot.ly\";Plotly.newPlot(\"a30066a2-1a53-4508-bf70-1ba26e6dde9a\", [{\"type\": \"pie\", \"labels\": [\"7 Saltos S.A.\", \"Ajax Downs Slots at Racetracks\", \"Aspers Casino, Unit 19 Xscape\", \"Best Western Hickok House\", \"Bingo Royale Cleary Park\", \"Bob & Lucy's Tavern\", \"Casino Bagneres\", \"Casino Club Centro\", \"Casino Club Santa Rosa\", \"Casino Municipale Di Venezia SpA\", \"Casino Nadejda\", \"Casino Parque Hotel\", \"Casino Playa de las Americas\", \"Casino Ruhl\", \"Casino Terrazur\", \"Casino de El Bolson\", \"Casino de Jacobacci\", \"Casino de Rosario S.A\", \"Casino de Valras-Plage\", \"Cherokee Casino - West Siloam Springs\", \"Cherokee Nation Entertainment-Catoosa Op\", \"Deadwood Frontier\", \"Empresas E.E.\", \"Entretenimientos Patagonia S.A.\", \"Fernley Nugget\", \"Firekeepers Casino\", \"Galaxy Bingo East London\", \"Galaxy Bingo Pavilion\", \"Galaxy Bingo Port Elizabeth\", \"Ganagana Casinos SAC\", \"Golden Horse Casino\", \"Goldrush Bingo Rustenburg\", \"Goodlands Games Ltd\", \"Gran Casino Aranjuez\", \"Grosvenor Birmingham\", \"Grosvenor Casino Glasgow,\", \"Grosvenor Casino Leeds, Westgate\", \"Grosvenor Casino Salford\", \"Grosvenor Casino St. Giles\", \"Grosvenor Plymouth\", \"Grosvenor Scarborough\", \"Grosvenor Walsall\", \"Hemingways Casino\", \"Holland Casino Groningen\", \"Hotel Lan Kwai Fong (Macau) Limited\", \"IGT - Executive Briefing Center\", \"IGT - Red Room\", \"IGT Data Center - New Jersey\", \"Isle of Capri Casinos, Inc.\", \"Kickapoo Tribe of Oklahoma\", \"Las Pinas Slots Club\", \"Le Salon de Jeux de Quebec\", \"Macao\", \"Masaris Chiclayo\", \"Mocha Slot Management Limited\", \"Molly's #2\", \"Olympic Casino Ausekla\", \"Olympic Casino Barona\", \"Olympic Casino Brivibas\", \"Olympic Casino Expobel\", \"Olympic Casino Kuldigas\", \"Olympic Casino Marijas\", \"Olympic Casino Meksika\", \"Olympic Casino Passazh\", \"Olympic Casino Talava\", \"Olympic Casino Trnava\", \"Olympic Casino Zivju\", \"One Fire Casino\", \"Otoe - Missouria Tribe\", \"Palace Casino\", \"Pokagon Band of Potawatomi Indians\", \"Rainbow Casino Cardiff\", \"Resorts World at Sentosa Pte. Ltd.\", \"Seneca Gaming Corporation\", \"St Mesa Slots Club\", \"Suncoast Casino & Entertainment\", \"The Stables\", \"VFW Club\", \"Viking de Fr\\u0329jus\", \"Warehouse Fiesta Casino\", \"Widus International Leisure, Inc.\", \"Yakama Nation Legends Casino\"], \"values\": [11, 340, 3, 3, 6, 9, 184, 4, 8, 10, 20, 8, 3307, 7, 294, 1, 7, 76, 14, 8, 8, 8, 4, 10, 30, 112, 4, 5, 17, 27, 28, 86, 9, 7, 5, 24, 1, 8, 8, 403, 29, 45, 196, 24, 14, 33, 368, 28, 9, 13, 12, 6, 4, 9, 14, 6, 25, 2, 5, 6, 2, 1, 175, 13, 4, 7, 31, 8, 3, 2, 12, 6, 43, 342, 8, 55, 58, 103, 1561, 10, 2, 32]}], {\"title\": \"Predicted Casino Operator Score distribution\"}, {\"linkText\": \"Export to plot.ly\", \"showLink\": true})});</script>"
                    }, 
                    "metadata": {}, 
                    "output_type": "display_data"
                }
            ], 
            "metadata": {}, 
            "source": "cumulative_stats = predictions_pdf.groupby(['predictedLabel']).count()\n\nproduct_data = [go.Pie(\n            labels=cumulative_stats.index,\n            values=cumulative_stats['INDEX_SCORE'],\n    )]\n\nproduct_layout = go.Layout(\n    title='Predicted Casino Operator Score distribution',\n)\n\nfig = go.Figure(data=product_data, layout=product_layout)\niplot(fig)", 
            "cell_type": "code", 
            "execution_count": 31
        }, 
        {
            "metadata": {}, 
            "source": "With this data set, you might want to do some analysis of the mean AGE per product line by using a bar chart.", 
            "cell_type": "markdown"
        }, 
        {
            "outputs": [
                {
                    "data": {
                        "text/vnd.plotly.v1+html": "<div id=\"82fa8601-5530-4f20-bf30-fcdc323e909f\" style=\"height: 525px; width: 100%;\" class=\"plotly-graph-div\"></div><script type=\"text/javascript\">require([\"plotly\"], function(Plotly) { window.PLOTLYENV=window.PLOTLYENV || {};window.PLOTLYENV.BASE_URL=\"https://plot.ly\";Plotly.newPlot(\"82fa8601-5530-4f20-bf30-fcdc323e909f\", [{\"y\": [11.0, 1.0, 78.33333333333333, 0.0, 0.0, 0.0, 1.0, 0.0, 55.0, 23.7, 0.0, 5.5, 0.9915331115814938, 0.0, 1.0, 22.0, 20.0, 9.157894736842104, 0.0, 100.0, 0.0, 0.0, 0.0, 20.0, 0.0, 62.482142857142854, 0.0, 0.0, 8.0, 76.29629629629629, 11.821428571428571, 1.9186046511627908, 0.0, 0.0, 0.0, 10.666666666666666, 0.0, 0.0, 0.0, 1.0, 15.0, 7.0, 45.97959183673469, 22.0, 24.142857142857142, 0.0, 0.9972826086956522, 6.0, 0.0, 0.0, 0.0, 0.0, 0.0, 30.0, 0.0, 0.0, 0.0, 0.0, 0.0, 19.0, 0.0, 11.0, 96.42285714285714, 0.0, 0.0, 0.0, 10.0, 0.0, 0.0, 9.0, 0.0, 10.0, 20.441860465116278, 1.0, 0.0, 78.36363636363636, 20.17241379310345, 3.6893203883495147, 0.9737347853939782, 0.0, 19.0, 52.625], \"x\": [\"7 Saltos S.A.\", \"Ajax Downs Slots at Racetracks\", \"Aspers Casino, Unit 19 Xscape\", \"Best Western Hickok House\", \"Bingo Royale Cleary Park\", \"Bob & Lucy's Tavern\", \"Casino Bagneres\", \"Casino Club Centro\", \"Casino Club Santa Rosa\", \"Casino Municipale Di Venezia SpA\", \"Casino Nadejda\", \"Casino Parque Hotel\", \"Casino Playa de las Americas\", \"Casino Ruhl\", \"Casino Terrazur\", \"Casino de El Bolson\", \"Casino de Jacobacci\", \"Casino de Rosario S.A\", \"Casino de Valras-Plage\", \"Cherokee Casino - West Siloam Springs\", \"Cherokee Nation Entertainment-Catoosa Op\", \"Deadwood Frontier\", \"Empresas E.E.\", \"Entretenimientos Patagonia S.A.\", \"Fernley Nugget\", \"Firekeepers Casino\", \"Galaxy Bingo East London\", \"Galaxy Bingo Pavilion\", \"Galaxy Bingo Port Elizabeth\", \"Ganagana Casinos SAC\", \"Golden Horse Casino\", \"Goldrush Bingo Rustenburg\", \"Goodlands Games Ltd\", \"Gran Casino Aranjuez\", \"Grosvenor Birmingham\", \"Grosvenor Casino Glasgow,\", \"Grosvenor Casino Leeds, Westgate\", \"Grosvenor Casino Salford\", \"Grosvenor Casino St. Giles\", \"Grosvenor Plymouth\", \"Grosvenor Scarborough\", \"Grosvenor Walsall\", \"Hemingways Casino\", \"Holland Casino Groningen\", \"Hotel Lan Kwai Fong (Macau) Limited\", \"IGT - Executive Briefing Center\", \"IGT - Red Room\", \"IGT Data Center - New Jersey\", \"Isle of Capri Casinos, Inc.\", \"Kickapoo Tribe of Oklahoma\", \"Las Pinas Slots Club\", \"Le Salon de Jeux de Quebec\", \"Macao\", \"Masaris Chiclayo\", \"Mocha Slot Management Limited\", \"Molly's #2\", \"Olympic Casino Ausekla\", \"Olympic Casino Barona\", \"Olympic Casino Brivibas\", \"Olympic Casino Expobel\", \"Olympic Casino Kuldigas\", \"Olympic Casino Marijas\", \"Olympic Casino Meksika\", \"Olympic Casino Passazh\", \"Olympic Casino Talava\", \"Olympic Casino Trnava\", \"Olympic Casino Zivju\", \"One Fire Casino\", \"Otoe - Missouria Tribe\", \"Palace Casino\", \"Pokagon Band of Potawatomi Indians\", \"Rainbow Casino Cardiff\", \"Resorts World at Sentosa Pte. Ltd.\", \"Seneca Gaming Corporation\", \"St Mesa Slots Club\", \"Suncoast Casino & Entertainment\", \"The Stables\", \"VFW Club\", \"Viking de Fr\\u0329jus\", \"Warehouse Fiesta Casino\", \"Widus International Leisure, Inc.\", \"Yakama Nation Legends Casino\"], \"type\": \"bar\"}], {\"title\": \"Mean Score per predicted Casino Operator\", \"xaxis\": {\"showline\": false, \"title\": \"Casino Operator\"}, \"yaxis\": {\"title\": \"Mean Score\"}}, {\"linkText\": \"Export to plot.ly\", \"showLink\": true})});</script>", 
                        "application/vnd.plotly.v1+json": {
                            "data": [
                                {
                                    "type": "bar", 
                                    "y": [
                                        11, 
                                        1, 
                                        78.33333333333333, 
                                        0, 
                                        0, 
                                        0, 
                                        1, 
                                        0, 
                                        55, 
                                        23.7, 
                                        0, 
                                        5.5, 
                                        0.9915331115814938, 
                                        0, 
                                        1, 
                                        22, 
                                        20, 
                                        9.157894736842104, 
                                        0, 
                                        100, 
                                        0, 
                                        0, 
                                        0, 
                                        20, 
                                        0, 
                                        62.482142857142854, 
                                        0, 
                                        0, 
                                        8, 
                                        76.29629629629629, 
                                        11.821428571428571, 
                                        1.9186046511627908, 
                                        0, 
                                        0, 
                                        0, 
                                        10.666666666666666, 
                                        0, 
                                        0, 
                                        0, 
                                        1, 
                                        15, 
                                        7, 
                                        45.97959183673469, 
                                        22, 
                                        24.142857142857142, 
                                        0, 
                                        0.9972826086956522, 
                                        6, 
                                        0, 
                                        0, 
                                        0, 
                                        0, 
                                        0, 
                                        30, 
                                        0, 
                                        0, 
                                        0, 
                                        0, 
                                        0, 
                                        19, 
                                        0, 
                                        11, 
                                        96.42285714285714, 
                                        0, 
                                        0, 
                                        0, 
                                        10, 
                                        0, 
                                        0, 
                                        9, 
                                        0, 
                                        10, 
                                        20.441860465116278, 
                                        1, 
                                        0, 
                                        78.36363636363636, 
                                        20.17241379310345, 
                                        3.6893203883495147, 
                                        0.9737347853939782, 
                                        0, 
                                        19, 
                                        52.625
                                    ], 
                                    "x": [
                                        "7 Saltos S.A.", 
                                        "Ajax Downs Slots at Racetracks", 
                                        "Aspers Casino, Unit 19 Xscape", 
                                        "Best Western Hickok House", 
                                        "Bingo Royale Cleary Park", 
                                        "Bob & Lucy's Tavern", 
                                        "Casino Bagneres", 
                                        "Casino Club Centro", 
                                        "Casino Club Santa Rosa", 
                                        "Casino Municipale Di Venezia SpA", 
                                        "Casino Nadejda", 
                                        "Casino Parque Hotel", 
                                        "Casino Playa de las Americas", 
                                        "Casino Ruhl", 
                                        "Casino Terrazur", 
                                        "Casino de El Bolson", 
                                        "Casino de Jacobacci", 
                                        "Casino de Rosario S.A", 
                                        "Casino de Valras-Plage", 
                                        "Cherokee Casino - West Siloam Springs", 
                                        "Cherokee Nation Entertainment-Catoosa Op", 
                                        "Deadwood Frontier", 
                                        "Empresas E.E.", 
                                        "Entretenimientos Patagonia S.A.", 
                                        "Fernley Nugget", 
                                        "Firekeepers Casino", 
                                        "Galaxy Bingo East London", 
                                        "Galaxy Bingo Pavilion", 
                                        "Galaxy Bingo Port Elizabeth", 
                                        "Ganagana Casinos SAC", 
                                        "Golden Horse Casino", 
                                        "Goldrush Bingo Rustenburg", 
                                        "Goodlands Games Ltd", 
                                        "Gran Casino Aranjuez", 
                                        "Grosvenor Birmingham", 
                                        "Grosvenor Casino Glasgow,", 
                                        "Grosvenor Casino Leeds, Westgate", 
                                        "Grosvenor Casino Salford", 
                                        "Grosvenor Casino St. Giles", 
                                        "Grosvenor Plymouth", 
                                        "Grosvenor Scarborough", 
                                        "Grosvenor Walsall", 
                                        "Hemingways Casino", 
                                        "Holland Casino Groningen", 
                                        "Hotel Lan Kwai Fong (Macau) Limited", 
                                        "IGT - Executive Briefing Center", 
                                        "IGT - Red Room", 
                                        "IGT Data Center - New Jersey", 
                                        "Isle of Capri Casinos, Inc.", 
                                        "Kickapoo Tribe of Oklahoma", 
                                        "Las Pinas Slots Club", 
                                        "Le Salon de Jeux de Quebec", 
                                        "Macao", 
                                        "Masaris Chiclayo", 
                                        "Mocha Slot Management Limited", 
                                        "Molly's #2", 
                                        "Olympic Casino Ausekla", 
                                        "Olympic Casino Barona", 
                                        "Olympic Casino Brivibas", 
                                        "Olympic Casino Expobel", 
                                        "Olympic Casino Kuldigas", 
                                        "Olympic Casino Marijas", 
                                        "Olympic Casino Meksika", 
                                        "Olympic Casino Passazh", 
                                        "Olympic Casino Talava", 
                                        "Olympic Casino Trnava", 
                                        "Olympic Casino Zivju", 
                                        "One Fire Casino", 
                                        "Otoe - Missouria Tribe", 
                                        "Palace Casino", 
                                        "Pokagon Band of Potawatomi Indians", 
                                        "Rainbow Casino Cardiff", 
                                        "Resorts World at Sentosa Pte. Ltd.", 
                                        "Seneca Gaming Corporation", 
                                        "St Mesa Slots Club", 
                                        "Suncoast Casino & Entertainment", 
                                        "The Stables", 
                                        "VFW Club", 
                                        "Viking de Fr\u0329jus", 
                                        "Warehouse Fiesta Casino", 
                                        "Widus International Leisure, Inc.", 
                                        "Yakama Nation Legends Casino"
                                    ]
                                }
                            ], 
                            "layout": {
                                "xaxis": {
                                    "title": "Casino Operator", 
                                    "showline": false
                                }, 
                                "title": "Mean Score per predicted Casino Operator", 
                                "yaxis": {
                                    "title": "Mean Score"
                                }
                            }
                        }, 
                        "text/html": "<div id=\"82fa8601-5530-4f20-bf30-fcdc323e909f\" style=\"height: 525px; width: 100%;\" class=\"plotly-graph-div\"></div><script type=\"text/javascript\">require([\"plotly\"], function(Plotly) { window.PLOTLYENV=window.PLOTLYENV || {};window.PLOTLYENV.BASE_URL=\"https://plot.ly\";Plotly.newPlot(\"82fa8601-5530-4f20-bf30-fcdc323e909f\", [{\"y\": [11.0, 1.0, 78.33333333333333, 0.0, 0.0, 0.0, 1.0, 0.0, 55.0, 23.7, 0.0, 5.5, 0.9915331115814938, 0.0, 1.0, 22.0, 20.0, 9.157894736842104, 0.0, 100.0, 0.0, 0.0, 0.0, 20.0, 0.0, 62.482142857142854, 0.0, 0.0, 8.0, 76.29629629629629, 11.821428571428571, 1.9186046511627908, 0.0, 0.0, 0.0, 10.666666666666666, 0.0, 0.0, 0.0, 1.0, 15.0, 7.0, 45.97959183673469, 22.0, 24.142857142857142, 0.0, 0.9972826086956522, 6.0, 0.0, 0.0, 0.0, 0.0, 0.0, 30.0, 0.0, 0.0, 0.0, 0.0, 0.0, 19.0, 0.0, 11.0, 96.42285714285714, 0.0, 0.0, 0.0, 10.0, 0.0, 0.0, 9.0, 0.0, 10.0, 20.441860465116278, 1.0, 0.0, 78.36363636363636, 20.17241379310345, 3.6893203883495147, 0.9737347853939782, 0.0, 19.0, 52.625], \"x\": [\"7 Saltos S.A.\", \"Ajax Downs Slots at Racetracks\", \"Aspers Casino, Unit 19 Xscape\", \"Best Western Hickok House\", \"Bingo Royale Cleary Park\", \"Bob & Lucy's Tavern\", \"Casino Bagneres\", \"Casino Club Centro\", \"Casino Club Santa Rosa\", \"Casino Municipale Di Venezia SpA\", \"Casino Nadejda\", \"Casino Parque Hotel\", \"Casino Playa de las Americas\", \"Casino Ruhl\", \"Casino Terrazur\", \"Casino de El Bolson\", \"Casino de Jacobacci\", \"Casino de Rosario S.A\", \"Casino de Valras-Plage\", \"Cherokee Casino - West Siloam Springs\", \"Cherokee Nation Entertainment-Catoosa Op\", \"Deadwood Frontier\", \"Empresas E.E.\", \"Entretenimientos Patagonia S.A.\", \"Fernley Nugget\", \"Firekeepers Casino\", \"Galaxy Bingo East London\", \"Galaxy Bingo Pavilion\", \"Galaxy Bingo Port Elizabeth\", \"Ganagana Casinos SAC\", \"Golden Horse Casino\", \"Goldrush Bingo Rustenburg\", \"Goodlands Games Ltd\", \"Gran Casino Aranjuez\", \"Grosvenor Birmingham\", \"Grosvenor Casino Glasgow,\", \"Grosvenor Casino Leeds, Westgate\", \"Grosvenor Casino Salford\", \"Grosvenor Casino St. Giles\", \"Grosvenor Plymouth\", \"Grosvenor Scarborough\", \"Grosvenor Walsall\", \"Hemingways Casino\", \"Holland Casino Groningen\", \"Hotel Lan Kwai Fong (Macau) Limited\", \"IGT - Executive Briefing Center\", \"IGT - Red Room\", \"IGT Data Center - New Jersey\", \"Isle of Capri Casinos, Inc.\", \"Kickapoo Tribe of Oklahoma\", \"Las Pinas Slots Club\", \"Le Salon de Jeux de Quebec\", \"Macao\", \"Masaris Chiclayo\", \"Mocha Slot Management Limited\", \"Molly's #2\", \"Olympic Casino Ausekla\", \"Olympic Casino Barona\", \"Olympic Casino Brivibas\", \"Olympic Casino Expobel\", \"Olympic Casino Kuldigas\", \"Olympic Casino Marijas\", \"Olympic Casino Meksika\", \"Olympic Casino Passazh\", \"Olympic Casino Talava\", \"Olympic Casino Trnava\", \"Olympic Casino Zivju\", \"One Fire Casino\", \"Otoe - Missouria Tribe\", \"Palace Casino\", \"Pokagon Band of Potawatomi Indians\", \"Rainbow Casino Cardiff\", \"Resorts World at Sentosa Pte. Ltd.\", \"Seneca Gaming Corporation\", \"St Mesa Slots Club\", \"Suncoast Casino & Entertainment\", \"The Stables\", \"VFW Club\", \"Viking de Fr\\u0329jus\", \"Warehouse Fiesta Casino\", \"Widus International Leisure, Inc.\", \"Yakama Nation Legends Casino\"], \"type\": \"bar\"}], {\"title\": \"Mean Score per predicted Casino Operator\", \"xaxis\": {\"showline\": false, \"title\": \"Casino Operator\"}, \"yaxis\": {\"title\": \"Mean Score\"}}, {\"linkText\": \"Export to plot.ly\", \"showLink\": true})});</script>"
                    }, 
                    "metadata": {}, 
                    "output_type": "display_data"
                }
            ], 
            "metadata": {}, 
            "source": "age_data = [go.Bar(\n            y=predictions_pdf.groupby(['predictedLabel']).mean()[\"INDEX_SCORE\"],\n            x=cumulative_stats.index\n            \n    )]\n\nage_layout = go.Layout(\n    title='Mean Score per predicted Casino Operator',\n    xaxis=dict(\n        title = \"Casino Operator\",\n        showline=False,),\n    yaxis=dict(\n        title = \"Mean Score\",\n        ),\n)\n\nfig = go.Figure(data=age_data, layout=age_layout)\niplot(fig)", 
            "cell_type": "code", 
            "execution_count": 32
        }, 
        {
            "metadata": {}, 
            "source": "Based on bar plot you created, you might make the following conclusion: The mean age for clients that are interested in golf equipment is predicted to be over 50 years old.", 
            "cell_type": "markdown"
        }, 
        {
            "metadata": {}, 
            "source": "<a id=\"scoring\"></a>\n## 6. Deploy and score in a Cloud", 
            "cell_type": "markdown"
        }, 
        {
            "metadata": {}, 
            "source": "In this section you will learn how to create online scoring and to score a new data record by using the Watson Machine Learning REST API. \nFor more information about REST APIs, see the [Watson Machine Learning API Documentation](http://watson-ml-api.mybluemix.net/).", 
            "cell_type": "markdown"
        }, 
        {
            "metadata": {
                "collapsed": true
            }, 
            "source": "To work with the Watson Machine Leraning REST API, generate an access token:", 
            "cell_type": "markdown"
        }, 
        {
            "outputs": [], 
            "metadata": {
                "collapsed": true
            }, 
            "source": "import urllib3, requests, json\n\nheaders = urllib3.util.make_headers(basic_auth='{}:{}'.format(username, password))\nurl = '{}/v2/identity/token'.format(service_path)\nresponse = requests.get(url, headers=headers)\nmltoken = json.loads(response.text).get('token')", 
            "cell_type": "code", 
            "execution_count": 38
        }, 
        {
            "metadata": {}, 
            "source": "### 6.1: Create an online scoring endpoint", 
            "cell_type": "markdown"
        }, 
        {
            "metadata": {}, 
            "source": "Now you can create an online scoring endpoint. Execute the following sample code that uses the **modelVersionHref** value to create the scoring endpoint to the Bluemix repository.", 
            "cell_type": "markdown"
        }, 
        {
            "outputs": [
                {
                    "name": "stdout", 
                    "output_type": "stream", 
                    "text": "<Response [502]>\n<html>\r\n<head><title>502 Bad Gateway</title></head>\r\n<body bgcolor=\"white\">\r\n<center><h1>502 Bad Gateway</h1></center>\r\n<hr><center>nginx/1.11.5</center>\r\n</body>\r\n</html>\r\n\n"
                }
            ], 
            "metadata": {}, 
            "source": "endpoint_online = service_path + \"/v2/online/deployments/\"\nheader_online = {'Content-Type': 'application/json', 'Authorization': mltoken}\npayload_online = {\"artifactVersionHref\": saved_model.meta.prop(\"modelVersionHref\"), \"name\": \"Casino Operator Health Prediction\"}\n\nresponse_online = requests.post(endpoint_online, json=payload_online, headers=header_online)\n\nprint response_online\nprint response_online.text", 
            "cell_type": "code", 
            "execution_count": 39
        }, 
        {
            "outputs": [
                {
                    "traceback": [
                        "\u001b[0;31m\u001b[0m", 
                        "\u001b[0;31mValueError\u001b[0mTraceback (most recent call last)", 
                        "\u001b[0;32m<ipython-input-40-3f7deb7e66ba>\u001b[0m in \u001b[0;36m<module>\u001b[0;34m()\u001b[0m\n\u001b[0;32m----> 1\u001b[0;31m \u001b[0mscoring_href\u001b[0m \u001b[0;34m=\u001b[0m \u001b[0mjson\u001b[0m\u001b[0;34m.\u001b[0m\u001b[0mloads\u001b[0m\u001b[0;34m(\u001b[0m\u001b[0mresponse_online\u001b[0m\u001b[0;34m.\u001b[0m\u001b[0mtext\u001b[0m\u001b[0;34m)\u001b[0m\u001b[0;34m.\u001b[0m\u001b[0mget\u001b[0m\u001b[0;34m(\u001b[0m\u001b[0;34m'entity'\u001b[0m\u001b[0;34m)\u001b[0m\u001b[0;34m.\u001b[0m\u001b[0mget\u001b[0m\u001b[0;34m(\u001b[0m\u001b[0;34m'scoringHref'\u001b[0m\u001b[0;34m)\u001b[0m\u001b[0;34m\u001b[0m\u001b[0m\n\u001b[0m\u001b[1;32m      2\u001b[0m \u001b[0;32mprint\u001b[0m \u001b[0mscoring_href\u001b[0m\u001b[0;34m\u001b[0m\u001b[0m\n", 
                        "\u001b[0;32m/usr/local/src/bluemix_jupyter_bundle.v52/notebook/lib/python2.7/json/__init__.pyc\u001b[0m in \u001b[0;36mloads\u001b[0;34m(s, encoding, cls, object_hook, parse_float, parse_int, parse_constant, object_pairs_hook, **kw)\u001b[0m\n\u001b[1;32m    337\u001b[0m             \u001b[0mparse_int\u001b[0m \u001b[0;32mis\u001b[0m \u001b[0mNone\u001b[0m \u001b[0;32mand\u001b[0m \u001b[0mparse_float\u001b[0m \u001b[0;32mis\u001b[0m \u001b[0mNone\u001b[0m \u001b[0;32mand\u001b[0m\u001b[0;34m\u001b[0m\u001b[0m\n\u001b[1;32m    338\u001b[0m             parse_constant is None and object_pairs_hook is None and not kw):\n\u001b[0;32m--> 339\u001b[0;31m         \u001b[0;32mreturn\u001b[0m \u001b[0m_default_decoder\u001b[0m\u001b[0;34m.\u001b[0m\u001b[0mdecode\u001b[0m\u001b[0;34m(\u001b[0m\u001b[0ms\u001b[0m\u001b[0;34m)\u001b[0m\u001b[0;34m\u001b[0m\u001b[0m\n\u001b[0m\u001b[1;32m    340\u001b[0m     \u001b[0;32mif\u001b[0m \u001b[0mcls\u001b[0m \u001b[0;32mis\u001b[0m \u001b[0mNone\u001b[0m\u001b[0;34m:\u001b[0m\u001b[0;34m\u001b[0m\u001b[0m\n\u001b[1;32m    341\u001b[0m         \u001b[0mcls\u001b[0m \u001b[0;34m=\u001b[0m \u001b[0mJSONDecoder\u001b[0m\u001b[0;34m\u001b[0m\u001b[0m\n", 
                        "\u001b[0;32m/usr/local/src/bluemix_jupyter_bundle.v52/notebook/lib/python2.7/json/decoder.pyc\u001b[0m in \u001b[0;36mdecode\u001b[0;34m(self, s, _w)\u001b[0m\n\u001b[1;32m    362\u001b[0m \u001b[0;34m\u001b[0m\u001b[0m\n\u001b[1;32m    363\u001b[0m         \"\"\"\n\u001b[0;32m--> 364\u001b[0;31m         \u001b[0mobj\u001b[0m\u001b[0;34m,\u001b[0m \u001b[0mend\u001b[0m \u001b[0;34m=\u001b[0m \u001b[0mself\u001b[0m\u001b[0;34m.\u001b[0m\u001b[0mraw_decode\u001b[0m\u001b[0;34m(\u001b[0m\u001b[0ms\u001b[0m\u001b[0;34m,\u001b[0m \u001b[0midx\u001b[0m\u001b[0;34m=\u001b[0m\u001b[0m_w\u001b[0m\u001b[0;34m(\u001b[0m\u001b[0ms\u001b[0m\u001b[0;34m,\u001b[0m \u001b[0;36m0\u001b[0m\u001b[0;34m)\u001b[0m\u001b[0;34m.\u001b[0m\u001b[0mend\u001b[0m\u001b[0;34m(\u001b[0m\u001b[0;34m)\u001b[0m\u001b[0;34m)\u001b[0m\u001b[0;34m\u001b[0m\u001b[0m\n\u001b[0m\u001b[1;32m    365\u001b[0m         \u001b[0mend\u001b[0m \u001b[0;34m=\u001b[0m \u001b[0m_w\u001b[0m\u001b[0;34m(\u001b[0m\u001b[0ms\u001b[0m\u001b[0;34m,\u001b[0m \u001b[0mend\u001b[0m\u001b[0;34m)\u001b[0m\u001b[0;34m.\u001b[0m\u001b[0mend\u001b[0m\u001b[0;34m(\u001b[0m\u001b[0;34m)\u001b[0m\u001b[0;34m\u001b[0m\u001b[0m\n\u001b[1;32m    366\u001b[0m         \u001b[0;32mif\u001b[0m \u001b[0mend\u001b[0m \u001b[0;34m!=\u001b[0m \u001b[0mlen\u001b[0m\u001b[0;34m(\u001b[0m\u001b[0ms\u001b[0m\u001b[0;34m)\u001b[0m\u001b[0;34m:\u001b[0m\u001b[0;34m\u001b[0m\u001b[0m\n", 
                        "\u001b[0;32m/usr/local/src/bluemix_jupyter_bundle.v52/notebook/lib/python2.7/json/decoder.pyc\u001b[0m in \u001b[0;36mraw_decode\u001b[0;34m(self, s, idx)\u001b[0m\n\u001b[1;32m    380\u001b[0m             \u001b[0mobj\u001b[0m\u001b[0;34m,\u001b[0m \u001b[0mend\u001b[0m \u001b[0;34m=\u001b[0m \u001b[0mself\u001b[0m\u001b[0;34m.\u001b[0m\u001b[0mscan_once\u001b[0m\u001b[0;34m(\u001b[0m\u001b[0ms\u001b[0m\u001b[0;34m,\u001b[0m \u001b[0midx\u001b[0m\u001b[0;34m)\u001b[0m\u001b[0;34m\u001b[0m\u001b[0m\n\u001b[1;32m    381\u001b[0m         \u001b[0;32mexcept\u001b[0m \u001b[0mStopIteration\u001b[0m\u001b[0;34m:\u001b[0m\u001b[0;34m\u001b[0m\u001b[0m\n\u001b[0;32m--> 382\u001b[0;31m             \u001b[0;32mraise\u001b[0m \u001b[0mValueError\u001b[0m\u001b[0;34m(\u001b[0m\u001b[0;34m\"No JSON object could be decoded\"\u001b[0m\u001b[0;34m)\u001b[0m\u001b[0;34m\u001b[0m\u001b[0m\n\u001b[0m\u001b[1;32m    383\u001b[0m         \u001b[0;32mreturn\u001b[0m \u001b[0mobj\u001b[0m\u001b[0;34m,\u001b[0m \u001b[0mend\u001b[0m\u001b[0;34m\u001b[0m\u001b[0m\n", 
                        "\u001b[0;31mValueError\u001b[0m: No JSON object could be decoded"
                    ], 
                    "output_type": "error", 
                    "evalue": "No JSON object could be decoded", 
                    "ename": "ValueError"
                }
            ], 
            "metadata": {
                "scrolled": false
            }, 
            "source": "scoring_href = json.loads(response_online.text).get('entity').get('scoringHref')\nprint scoring_href", 
            "cell_type": "code", 
            "execution_count": 40
        }, 
        {
            "metadata": {}, 
            "source": "Send (PUT) new scoring records (new data) for which you would like to get predictions:", 
            "cell_type": "markdown"
        }, 
        {
            "outputs": [
                {
                    "traceback": [
                        "\u001b[0;31m\u001b[0m", 
                        "\u001b[0;31mNameError\u001b[0mTraceback (most recent call last)", 
                        "\u001b[0;32m<ipython-input-36-9f154bf39603>\u001b[0m in \u001b[0;36m<module>\u001b[0;34m()\u001b[0m\n\u001b[1;32m      1\u001b[0m \u001b[0mpayload_scoring\u001b[0m \u001b[0;34m=\u001b[0m \u001b[0;34m{\u001b[0m\u001b[0;34m\"record\"\u001b[0m\u001b[0;34m:\u001b[0m\u001b[0;34m[\u001b[0m\u001b[0;34m\"M\"\u001b[0m\u001b[0;34m,\u001b[0m \u001b[0;36m23\u001b[0m\u001b[0;34m,\u001b[0m \u001b[0;34m\"Single\"\u001b[0m\u001b[0;34m,\u001b[0m \u001b[0;34m\"Student\"\u001b[0m\u001b[0;34m]\u001b[0m\u001b[0;34m}\u001b[0m\u001b[0;34m\u001b[0m\u001b[0m\n\u001b[0;32m----> 2\u001b[0;31m \u001b[0mresponse_scoring\u001b[0m \u001b[0;34m=\u001b[0m \u001b[0mrequests\u001b[0m\u001b[0;34m.\u001b[0m\u001b[0mput\u001b[0m\u001b[0;34m(\u001b[0m\u001b[0mscoring_href\u001b[0m\u001b[0;34m,\u001b[0m \u001b[0mjson\u001b[0m\u001b[0;34m=\u001b[0m\u001b[0mpayload_scoring\u001b[0m\u001b[0;34m,\u001b[0m \u001b[0mheaders\u001b[0m\u001b[0;34m=\u001b[0m\u001b[0mheader_online\u001b[0m\u001b[0;34m)\u001b[0m\u001b[0;34m\u001b[0m\u001b[0m\n\u001b[0m\u001b[1;32m      3\u001b[0m \u001b[0;34m\u001b[0m\u001b[0m\n\u001b[1;32m      4\u001b[0m \u001b[0;32mprint\u001b[0m \u001b[0mresponse_scoring\u001b[0m\u001b[0;34m.\u001b[0m\u001b[0mtext\u001b[0m\u001b[0;34m\u001b[0m\u001b[0m\n", 
                        "\u001b[0;31mNameError\u001b[0m: name 'scoring_href' is not defined"
                    ], 
                    "output_type": "error", 
                    "evalue": "name 'scoring_href' is not defined", 
                    "ename": "NameError"
                }
            ], 
            "metadata": {
                "scrolled": true
            }, 
            "source": "payload_scoring = {\"record\":[\"M\", 23, \"Single\", \"Student\"]}\nresponse_scoring = requests.put(scoring_href, json=payload_scoring, headers=header_online)\n\nprint response_scoring.text", 
            "cell_type": "code", 
            "execution_count": 36
        }, 
        {
            "metadata": {}, 
            "source": "The prediction is that a 23-year-old male student is interested in personal accessories (predictedLabel: Personal Accessories, prediction: 1.0).", 
            "cell_type": "markdown"
        }, 
        {
            "metadata": {
                "collapsed": true
            }, 
            "source": "<a id=\"summary\"></a>\n## 7. Summary and next steps     ", 
            "cell_type": "markdown"
        }, 
        {
            "metadata": {
                "collapsed": true
            }, 
            "source": " You successfully completed this notebook! You learned how to use Apache Spark machine learning as well as Watson Machine Learning for model creation and deployment. Check out our _[Online Documentation](https://apsportal.ibm.com/docs/content/getting-started/get-started.html)_ for more samples, tutorials, documentation, how-tos, and blog posts. ", 
            "cell_type": "markdown"
        }, 
        {
            "metadata": {}, 
            "source": "### Authors\n\n**Lukasz Cmielowski**, PhD, is a Automation Architect and Data Scientist in IBM with a track record of developing enterprise-level applications that substantially increases clients' ability to turn data into actionable knowledge.", 
            "cell_type": "markdown"
        }, 
        {
            "metadata": {}, 
            "source": "Copyright \u00a9 2017 IBM. This notebook and its source code are released under the terms of the MIT License.", 
            "cell_type": "markdown"
        }
    ], 
    "nbformat": 4
}