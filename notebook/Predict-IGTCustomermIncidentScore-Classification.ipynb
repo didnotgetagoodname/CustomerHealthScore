{
    "metadata": {
        "language_info": {
            "name": "python", 
            "mimetype": "text/x-python", 
            "nbconvert_exporter": "python", 
            "pygments_lexer": "ipython2", 
            "codemirror_mode": {
                "name": "ipython", 
                "version": 2
            }, 
            "file_extension": ".py", 
            "version": "2.7.11"
        }, 
        "kernelspec": {
            "display_name": "Python 2 with Spark 2.0", 
            "name": "python2-spark20", 
            "language": "python"
        }
    }, 
    "nbformat": 4, 
    "cells": [
        {
            "metadata": {}, 
            "source": "### Toggle to see or hide code cells", 
            "cell_type": "markdown"
        }, 
        {
            "source": "from IPython.display import HTML\n\nHTML('''<script>\ncode_show=true; \nfunction code_toggle() {\n if (code_show){\n $('div.input').hide();\n } else {\n $('div.input').show();\n }\n code_show = !code_show\n} \n$( document ).ready(code_toggle);\n</script>\n<form action=\"javascript:code_toggle()\"><input type=\"submit\" value=\"Click here to toggle on/off the raw code.\"></form>''')", 
            "metadata": {}, 
            "execution_count": 58, 
            "cell_type": "code", 
            "outputs": [
                {
                    "data": {
                        "text/html": "<script>\ncode_show=true; \nfunction code_toggle() {\n if (code_show){\n $('div.input').hide();\n } else {\n $('div.input').show();\n }\n code_show = !code_show\n} \n$( document ).ready(code_toggle);\n</script>\n<form action=\"javascript:code_toggle()\"><input type=\"submit\" value=\"Click here to toggle on/off the raw code.\"></form>", 
                        "text/plain": "<IPython.core.display.HTML object>"
                    }, 
                    "metadata": {}, 
                    "execution_count": 58, 
                    "output_type": "execute_result"
                }
            ]
        }, 
        {
            "metadata": {}, 
            "source": "### Sample RF example to show A Basic Log Function", 
            "cell_type": "markdown"
        }, 
        {
            "source": "import numpy as np\nimport pylab as pl\nimport pandas as pd\n\nx = np.random.uniform(1, 100, 1000)\ny = np.log(x) + np.random.normal(0, .3, 1000)\n\npl.scatter(x, y, s=1, label=\"log(x) with noise\")\npl.plot(np.arange(1, 100), np.log(np.arange(1, 100)), c=\"b\", label=\"log(x) true function\")\npl.xlabel(\"x\")\npl.ylabel(\"f(x) = log(x)\")\npl.legend(loc=\"best\")\npl.title(\"A Basic Log Function\")\npl.show()", 
            "metadata": {}, 
            "execution_count": 55, 
            "cell_type": "code", 
            "outputs": [
                {
                    "data": {
                        "text/plain": "<matplotlib.figure.Figure at 0x7f7069ab8b10>", 
                        "image/png": "[encoded data removed]"
                    }, 
                    "metadata": {}, 
                    "output_type": "display_data"
                }
            ]
        }, 
        {
            "source": "# The code was removed by DSX for sharing.", 
            "metadata": {}, 
            "execution_count": 32, 
            "cell_type": "code", 
            "outputs": [
                {
                    "data": {
                        "text/plain": "[Row(ACCOUNT_NAME=u'Galaxy Bingo Port Elizabeth', PRODUCT_NAME=u'Ticketing 9.1 SP2', AGE__C=u'50', ANALYST_HOURS__C=u'0', ATTACHED_INCIDENTS__C=u'1', ATTACHED_WORKAROUNDS__C=u'0', AVERAGE_CUSTOMER_COST_HR__C=u'0', AVERAGE_NO_OF_HRS_TO_SOLVE_TKT__C=u'0', COMPLIANCE__C=u'FALSE', COST_PER_HOUR_TO_SOLVE_TKT__C=u'98', CUSTOMER_COST__C=u'0', DEFECT_TYPE__C=u'Defect', IGT_COST__C=u'0', IMPACT__C=u'Medium', KNOWN_ERROR__C=u'FALSE', LIABILITY__C=u'FALSE', MAJOR_PROBLEM__C=u'FALSE', NUMBER_OF_CUSTOMERS_BY_PRODUCT_BUILD__C=u'19', NUMBER_OF_CUSTOMERS_REPORTED__C=u'1', OPEN_TASKS__C=u'0', RCA_COMPLETED__C=u'FALSE', RESOLVED_BY_CR__C=u'FALSE', STATUS__C=u'In Process', STATUS_REASON__C=u'Development', SUB_STATUS_REASON__C=u'Testing', SUBJECT__C=u'jackpot hit payment goes to non deductible credit whereas it s configured as HandPay', TOTAL_COST__C=u'0', URGENCY__C=u'Medium', WORKAROUND_EXISTS__C=u'No'),\n Row(ACCOUNT_NAME=u'Galaxy Bingo Port Elizabeth', PRODUCT_NAME=u'Ticketing 9.1 SP2', AGE__C=u'238', ANALYST_HOURS__C=u'0', ATTACHED_INCIDENTS__C=u'1', ATTACHED_WORKAROUNDS__C=u'0', AVERAGE_CUSTOMER_COST_HR__C=u'0', AVERAGE_NO_OF_HRS_TO_SOLVE_TKT__C=u'0', COMPLIANCE__C=u'FALSE', COST_PER_HOUR_TO_SOLVE_TKT__C=u'98', CUSTOMER_COST__C=u'0', DEFECT_TYPE__C=u'Defect', IGT_COST__C=u'0', IMPACT__C=u'High', KNOWN_ERROR__C=u'FALSE', LIABILITY__C=u'FALSE', MAJOR_PROBLEM__C=u'FALSE', NUMBER_OF_CUSTOMERS_BY_PRODUCT_BUILD__C=u'19', NUMBER_OF_CUSTOMERS_REPORTED__C=u'1', OPEN_TASKS__C=u'0', RCA_COMPLETED__C=u'FALSE', RESOLVED_BY_CR__C=u'FALSE', STATUS__C=u'In Process', STATUS_REASON__C=u'Development', SUB_STATUS_REASON__C=u'Coding', SUBJECT__C=u'LGTK:60876 Too much transaction failures on the floor', TOTAL_COST__C=u'0', URGENCY__C=u'High', WORKAROUND_EXISTS__C=u'No'),\n Row(ACCOUNT_NAME=u'Galaxy Bingo Port Elizabeth', PRODUCT_NAME=u'Bingo 3.15', AGE__C=u'334', ANALYST_HOURS__C=u'0', ATTACHED_INCIDENTS__C=u'1', ATTACHED_WORKAROUNDS__C=u'0', AVERAGE_CUSTOMER_COST_HR__C=u'250', AVERAGE_NO_OF_HRS_TO_SOLVE_TKT__C=u'1', COMPLIANCE__C=u'FALSE', COST_PER_HOUR_TO_SOLVE_TKT__C=u'98', CUSTOMER_COST__C=u'250', DEFECT_TYPE__C=u'Defect', IGT_COST__C=u'98', IMPACT__C=u'Low', KNOWN_ERROR__C=u'FALSE', LIABILITY__C=u'FALSE', MAJOR_PROBLEM__C=u'FALSE', NUMBER_OF_CUSTOMERS_BY_PRODUCT_BUILD__C=u'8', NUMBER_OF_CUSTOMERS_REPORTED__C=u'1', OPEN_TASKS__C=u'0', RCA_COMPLETED__C=u'FALSE', RESOLVED_BY_CR__C=u'FALSE', STATUS__C=u'In Process', STATUS_REASON__C=u'Development', SUB_STATUS_REASON__C=u'Planning', SUBJECT__C=u'2 handpays disappeared', TOTAL_COST__C=u'348', URGENCY__C=u'Medium', WORKAROUND_EXISTS__C=u'No'),\n Row(ACCOUNT_NAME=u'Galaxy Bingo Port Elizabeth', PRODUCT_NAME=u'Bingo 3.15', AGE__C=u'146', ANALYST_HOURS__C=u'0', ATTACHED_INCIDENTS__C=u'1', ATTACHED_WORKAROUNDS__C=u'0', AVERAGE_CUSTOMER_COST_HR__C=u'250', AVERAGE_NO_OF_HRS_TO_SOLVE_TKT__C=u'1', COMPLIANCE__C=u'FALSE', COST_PER_HOUR_TO_SOLVE_TKT__C=u'98', CUSTOMER_COST__C=u'250', DEFECT_TYPE__C=u'Defect', IGT_COST__C=u'98', IMPACT__C=u'Low', KNOWN_ERROR__C=u'FALSE', LIABILITY__C=u'FALSE', MAJOR_PROBLEM__C=u'FALSE', NUMBER_OF_CUSTOMERS_BY_PRODUCT_BUILD__C=u'2', NUMBER_OF_CUSTOMERS_REPORTED__C=u'1', OPEN_TASKS__C=u'0', RCA_COMPLETED__C=u'TRUE', RESOLVED_BY_CR__C=u'FALSE', STATUS__C=u'Closed', STATUS_REASON__C=u'Unverified', SUB_STATUS_REASON__C=None, SUBJECT__C=u'Actual(tmp) versus Meter In Except rule 19/20', TOTAL_COST__C=u'348', URGENCY__C=u'Low', WORKAROUND_EXISTS__C=u'No'),\n Row(ACCOUNT_NAME=u'Galaxy Bingo Port Elizabeth', PRODUCT_NAME=u'Bingo 3.15', AGE__C=u'-410', ANALYST_HOURS__C=u'0', ATTACHED_INCIDENTS__C=u'1', ATTACHED_WORKAROUNDS__C=u'0', AVERAGE_CUSTOMER_COST_HR__C=u'250', AVERAGE_NO_OF_HRS_TO_SOLVE_TKT__C=u'1', COMPLIANCE__C=u'FALSE', COST_PER_HOUR_TO_SOLVE_TKT__C=u'98', CUSTOMER_COST__C=u'250', DEFECT_TYPE__C=u'Defect', IGT_COST__C=u'98', IMPACT__C=u'Low', KNOWN_ERROR__C=u'FALSE', LIABILITY__C=u'FALSE', MAJOR_PROBLEM__C=u'FALSE', NUMBER_OF_CUSTOMERS_BY_PRODUCT_BUILD__C=u'0', NUMBER_OF_CUSTOMERS_REPORTED__C=u'1', OPEN_TASKS__C=u'0', RCA_COMPLETED__C=u'TRUE', RESOLVED_BY_CR__C=u'FALSE', STATUS__C=u'Closed', STATUS_REASON__C=u'Verified', SUB_STATUS_REASON__C=None, SUBJECT__C=u'Area/Section change between report execu', TOTAL_COST__C=u'348', URGENCY__C=u'Low', WORKAROUND_EXISTS__C=u'No')]"
                    }, 
                    "metadata": {}, 
                    "execution_count": 32, 
                    "output_type": "execute_result"
                }
            ]
        }, 
        {
            "source": "dummy = df.unpersist()", 
            "metadata": {
                "collapsed": true
            }, 
            "execution_count": 33, 
            "cell_type": "code", 
            "outputs": []
        }, 
        {
            "source": "### change columns to lower case and cache data\ndf = df.select(df.columns[:92])\nfor col in df.columns:\n    df = df.withColumnRenamed(col,col.lower())\n\ndf = df.cache()\ndummy_catcher = df.first()", 
            "metadata": {
                "collapsed": true
            }, 
            "execution_count": 34, 
            "cell_type": "code", 
            "outputs": []
        }, 
        {
            "source": "### filter out accounts with no problem reported\ndf = df.filter(df.product_name!='')\\\n       .filter(df.age__c.isNotNull())", 
            "metadata": {}, 
            "execution_count": 35, 
            "cell_type": "code", 
            "outputs": []
        }, 
        {
            "source": "## convert a sample of data into Pandas\n## Be careful to not convert the entire DF, else it will cost memory resources\ndf_pd = df.sample(fraction=0.01,withReplacement=False)\ndf_pd = df.toPandas()", 
            "metadata": {
                "collapsed": true
            }, 
            "execution_count": 36, 
            "cell_type": "code", 
            "outputs": []
        }, 
        {
            "source": "#### select a subset of columns ###\nrelevant_columns = ['account_name', 'product_name', 'age__c', 'analyst_hours__c', 'attached_incidents__c', \n                    'attached_workarounds__c', 'average_customer_cost_hr__c', 'average_no_of_hrs_to_solve_tkt__c', \n                    'compliance__c', 'cost_per_hour_to_solve_tkt__c', 'customer_cost__c', 'defect_type__c', \n                    'igt_cost__c', 'impact__c', 'known_error__c', \n                    'liability__c', 'major_problem__c', 'number_of_customers_by_product_build__c', 'number_of_customers_reported__c', \n                    'open_tasks__c', 'rca_completed__c', 'resolved_by_cr__c', 'status__c', \n                    'status_reason__c', 'sub_status_reason__c', 'subject__c', 'total_cost__c', 'urgency__c', 'workaround_exists__c']\n\ndf = df.select(relevant_columns)\ndf = df.fillna(0)", 
            "metadata": {}, 
            "execution_count": 38, 
            "cell_type": "code", 
            "outputs": []
        }, 
        {
            "source": "# collect categorical columns to be used for later\ncategorical = ['compliance__c','defect_type__c','impact__c','known_error__c','liability__c',\n               'major_problem__c','open_tasks__c','rca_completed__c','resolved_by_cr__c','status__c',\n               'status_reason__c','sub_status_reason__c','subject__c','urgency__c','workaround_exists__c']\n\n# collect a set of integer columns\ninteger_columns = ['analyst_hours__c','attached_incidents__c','attached_workarounds__c','average_customer_cost_hr__c',\n                   'average_no_of_hrs_to_solve_tkt__c','cost_per_hour_to_solve_tkt__c','customer_cost__c',\n                   'igt_cost__c','number_of_customers_by_product_build__c','number_of_customers_reported__c', 'total_cost__c']\n\n#other columns which uniquely identify rows such as account names and product_ids are not touched\nother_cols = set(df.columns).difference(set(integer_columns).union(set(categorical)))", 
            "metadata": {}, 
            "execution_count": 39, 
            "cell_type": "code", 
            "outputs": []
        }, 
        {
            "source": "other_cols", 
            "metadata": {}, 
            "execution_count": 40, 
            "cell_type": "code", 
            "outputs": [
                {
                    "data": {
                        "text/plain": "{'account_name', 'age__c', 'product_name'}"
                    }, 
                    "metadata": {}, 
                    "execution_count": 40, 
                    "output_type": "execute_result"
                }
            ]
        }, 
        {
            "source": "from pyspark.sql.types import StringType, IntegerType, FloatType\nfrom pyspark.sql.functions import UserDefinedFunction, when\n\n# clean up target column (age__c)\nclean_target = UserDefinedFunction(lambda x:0 if x==None else int(x.split(' ')[0]),IntegerType())\ndf = df.withColumn('age__c',clean_target(df['age__c']))\n\n# cast columns containing number to integertype\nfor col in integer_columns:\n    df = df.withColumn(col,df[col].cast(IntegerType()))\n    df = df.withColumn(col,when(df[col].isNull(),0).otherwise(df[col]))\n    \n# clean up categorical values, make sure that \"NULL\"s are appropriately converted\nfor col in categorical:\n    df = df.withColumn(col,when(df[col].isNull(),'Unknown_'+col).otherwise(df[col]))", 
            "metadata": {}, 
            "execution_count": 41, 
            "cell_type": "code", 
            "outputs": []
        }, 
        {
            "metadata": {}, 
            "source": "#### Save 'df' ", 
            "cell_type": "markdown"
        }, 
        {
            "source": "dataset = df\nif 'indexed' in locals():\n    del locals()['indexed']\n\nif 'string_encoded' in locals():\n        del locals()['string_encoded']", 
            "metadata": {
                "collapsed": true
            }, 
            "execution_count": 42, 
            "cell_type": "code", 
            "outputs": []
        }, 
        {
            "metadata": {}, 
            "source": "### StringIndex and one-hot encode categorical variables", 
            "cell_type": "markdown"
        }, 
        {
            "source": "from pyspark.ml.feature import StringIndexer, OneHotEncoder\n\nfor cat in categorical:\n    stringIndexer = StringIndexer(inputCol=cat,outputCol=cat+'_indexed',handleInvalid='error')\n    if 'indexed' in locals():\n        indexer = stringIndexer.fit(indexed)\n        indexed = indexer.transform(indexed)\n    else:\n        indexer = stringIndexer.fit(dataset)\n        indexed = indexer.transform(dataset)\nprint (\"####### String Indexing done ########\")\n\nindexed_columns = [col for col in indexed.columns if '_indexed' in col]\nfor col in indexed_columns:\n    encoder = OneHotEncoder(inputCol=col,outputCol=col+'_encoded')\n    if 'string_encoded' in locals():\n        string_encoded = encoder.transform(string_encoded)\n    else:\n        string_encoded = encoder.transform(indexed)\n    \nprint (\"####### One-hot encoding done ########\")", 
            "metadata": {}, 
            "execution_count": 43, 
            "cell_type": "code", 
            "outputs": [
                {
                    "name": "stdout", 
                    "output_type": "stream", 
                    "text": "####### String Indexing done ########\n####### One-hot encoding done ########\n"
                }
            ]
        }, 
        {
            "metadata": {}, 
            "source": "### Assemble all these columns together to create a feature_set", 
            "cell_type": "markdown"
        }, 
        {
            "source": "from pyspark.ml.feature import VectorAssembler\n\n#feature set is a combination of the one-hot encoded columns from above and integer features determined ealier in the NB\nstring_features = [col for col in string_encoded.columns if '_encoded' in col]\nnumeric_features = integer_columns\nfeature_set = string_features+numeric_features\n\n# define a transformer and apply it on the set\nnumeric_assembler = VectorAssembler(inputCols=numeric_features,outputCol='features_int')\nd1 = numeric_assembler.transform(string_encoded)\nassembler = VectorAssembler(inputCols = string_features+['features_int'],outputCol='features')\ndataset = assembler.transform(d1)", 
            "metadata": {
                "collapsed": true
            }, 
            "execution_count": 44, 
            "cell_type": "code", 
            "outputs": []
        }, 
        {
            "metadata": {}, 
            "source": "### Transform target into a binary/ multiclass column, select only columns that are needed from 'dataset'", 
            "cell_type": "markdown"
        }, 
        {
            "source": "def bucket_target(x):\n    if x<=100:\n        return 0 \n    elif x>100 and x<=200:\n        return 1\n    else:\n        return 2\n    \ndef binary_target(x):\n    if x<=150:\n        return 0 \n    else:\n        return 1 \n    \ncompute_target_multi = UserDefinedFunction(lambda x:bucket_target(x), IntegerType())\ncompute_target_binary = UserDefinedFunction(lambda x:binary_target(x), IntegerType())\n\nmodel_data = dataset.select('age__c','features','product_name','account_name')\nmodel_data = model_data.filter(model_data.age__c>=0)\nmodel_data_multiclass = model_data.withColumn('age__c',compute_target_multi(model_data['age__c']))\nmodel_data_binary = model_data.withColumn('age__c',compute_target_binary(model_data['age__c']))", 
            "metadata": {
                "collapsed": true
            }, 
            "execution_count": 45, 
            "cell_type": "code", 
            "outputs": []
        }, 
        {
            "source": "### register DFs as temp tables\nmodel_data_multiclass.registerTempTable('igt_data')\nmodel_data_binary.registerTempTable('igt_binary')", 
            "metadata": {
                "collapsed": true
            }, 
            "execution_count": 46, 
            "cell_type": "code", 
            "outputs": []
        }, 
        {
            "source": "query = \"\"\"\nselect age__c, \n       count(1)\nfrom igt_data\ngroup by 1\n\"\"\"\nspark.sql(query).toPandas()", 
            "metadata": {}, 
            "execution_count": 47, 
            "cell_type": "code", 
            "outputs": [
                {
                    "data": {
                        "text/html": "<div>\n<table border=\"1\" class=\"dataframe\">\n  <thead>\n    <tr style=\"text-align: right;\">\n      <th></th>\n      <th>age__c</th>\n      <th>count(1)</th>\n    </tr>\n  </thead>\n  <tbody>\n    <tr>\n      <th>0</th>\n      <td>1</td>\n      <td>307</td>\n    </tr>\n    <tr>\n      <th>1</th>\n      <td>2</td>\n      <td>1100</td>\n    </tr>\n    <tr>\n      <th>2</th>\n      <td>0</td>\n      <td>288</td>\n    </tr>\n  </tbody>\n</table>\n</div>", 
                        "text/plain": "   age__c  count(1)\n0       1       307\n1       2      1100\n2       0       288"
                    }, 
                    "metadata": {}, 
                    "execution_count": 47, 
                    "output_type": "execute_result"
                }
            ]
        }, 
        {
            "source": "query = \"\"\"\nselect age__c, \n       count(1)\nfrom igt_binary\ngroup by 1\n\"\"\"\nspark.sql(query).toPandas()", 
            "metadata": {}, 
            "execution_count": 48, 
            "cell_type": "code", 
            "outputs": [
                {
                    "data": {
                        "text/html": "<div>\n<table border=\"1\" class=\"dataframe\">\n  <thead>\n    <tr style=\"text-align: right;\">\n      <th></th>\n      <th>age__c</th>\n      <th>count(1)</th>\n    </tr>\n  </thead>\n  <tbody>\n    <tr>\n      <th>0</th>\n      <td>1</td>\n      <td>1266</td>\n    </tr>\n    <tr>\n      <th>1</th>\n      <td>0</td>\n      <td>429</td>\n    </tr>\n  </tbody>\n</table>\n</div>", 
                        "text/plain": "   age__c  count(1)\n0       1      1266\n1       0       429"
                    }, 
                    "metadata": {}, 
                    "execution_count": 48, 
                    "output_type": "execute_result"
                }
            ]
        }, 
        {
            "metadata": {}, 
            "source": "### Split into test and train ", 
            "cell_type": "markdown"
        }, 
        {
            "source": "train_binary, test_binary = model_data_binary.randomSplit([0.7,0.3])\ntrain_multi, test_multi = model_data_multiclass.randomSplit([0.7,0.3])", 
            "metadata": {
                "collapsed": true
            }, 
            "execution_count": 49, 
            "cell_type": "code", 
            "outputs": []
        }, 
        {
            "metadata": {}, 
            "source": "### Define evaluators for binary classification", 
            "cell_type": "markdown"
        }, 
        {
            "source": "#### Classification metrics ####\ndef calc_metrics(results,label_col,prediction_col):\n    metrics = {}\n    metrics['tp_0'] = results.filter((results[label_col]==0)&(results[prediction_col]==0)).count()\n    metrics['fn_0'] = results.filter((results[label_col]==0)&(results[prediction_col]==1)).count()\n    metrics['tn_0'] = results.filter((results[label_col]==1)&(results[prediction_col]==1)).count()\n    metrics['fp_0'] = results.filter((results[label_col]==1)&(results[prediction_col]==0)).count()\n    \n    metrics['tp_1'] = results.filter((results[label_col]==1)&(results[prediction_col]==1)).count()\n    metrics['fn_1'] = results.filter((results[label_col]==1)&(results[prediction_col]==0)).count()\n    metrics['tn_1'] = results.filter((results[label_col]==0)&(results[prediction_col]==0)).count()\n    metrics['fp_1'] = results.filter((results[label_col]==0)&(results[prediction_col]==1)).count()\n    \n    return metrics\n        \n### calc precision & recall ###\ndef precision_recall(results,label_col,prediction_col):\n    items = calc_metrics(results,label_col,prediction_col)\n    rows = []\n    \n    row = {'class':0,'precision':items['tp_0']/float((items['tp_0']+items['fp_0'])+1),'recall':items['tp_0']/float((items['tp_0']+items['fn_0'])+1)}\n    rows.append(row)\n    row = {'class':1,'precision':items['tp_1']/float((items['tp_1']+items['fp_1'])+1),'recall':items['tp_1']/float((items['tp_1']+items['fn_1'])+1)}\n    rows.append(row)\n    \n    return rows", 
            "metadata": {
                "collapsed": true
            }, 
            "execution_count": 50, 
            "cell_type": "code", 
            "outputs": []
        }, 
        {
            "metadata": {}, 
            "source": "### Define evaluators for multi-class classification", 
            "cell_type": "markdown"
        }, 
        {
            "source": "#### Classification metrics multi ####\ndef calc_metrics_multi(results,label_col,prediction_col):\n    metrics = {}\n    metrics['tp_0'] = results.filter((results[label_col]==0)&(results[prediction_col]==0)).count()\n    metrics['fn_0'] = results.filter((results[label_col]==0)&(results[prediction_col]!=0)).count()\n    metrics['tn_0'] = results.filter((results[label_col]!=0)&(results[prediction_col]!=0)).count()\n    metrics['fp_0'] = results.filter((results[label_col]!=0)&(results[prediction_col]==0)).count()\n    \n    metrics['tp_1'] = results.filter((results[label_col]==1)&(results[prediction_col]==1)).count()\n    metrics['fn_1'] = results.filter((results[label_col]==1)&(results[prediction_col]!=1)).count()\n    metrics['tn_1'] = results.filter((results[label_col]!=1)&(results[prediction_col]!=1)).count()\n    metrics['fp_1'] = results.filter((results[label_col]!=1)&(results[prediction_col]==1)).count()\n    \n    metrics['tp_2'] = results.filter((results[label_col]==2)&(results[prediction_col]==2)).count()\n    metrics['fn_2'] = results.filter((results[label_col]==2)&(results[prediction_col]!=2)).count()\n    metrics['tn_2'] = results.filter((results[label_col]!=2)&(results[prediction_col]!=2)).count()\n    metrics['fp_2'] = results.filter((results[label_col]!=2)&(results[prediction_col]==2)).count()\n    \n    metrics['tp_3'] = results.filter((results[label_col]==3)&(results[prediction_col]==3)).count()\n    metrics['fn_3'] = results.filter((results[label_col]==3)&(results[prediction_col]!=3)).count()\n    metrics['tn_3'] = results.filter((results[label_col]!=3)&(results[prediction_col]!=3)).count()\n    metrics['fp_3'] = results.filter((results[label_col]!=3)&(results[prediction_col]==3)).count()\n    \n    \n    return metrics\n        \n### calc precision & recall ###\ndef precision_recall_multi(results,label_col,prediction_col):\n    items = calc_metrics_multi(results,label_col,prediction_col)\n    rows = []\n    \n    row = {'class':0, 'precision':items['tp_0']/float((items['tp_0']+items['fp_0'])+1), \n                       'recall':items['tp_0']/float((items['tp_0']+items['fn_0'])+1)}\n    rows.append(row)\n     \n    row = {'class':1, 'precision':items['tp_1']/float((items['tp_1']+items['fp_1'])+1),\n                      'recall':items['tp_1']/float((items['tp_1']+items['fn_1'])+1)}\n    rows.append(row)\n    \n    row = {'class':2, 'precision':items['tp_2']/float((items['tp_2']+items['fp_2'])+1),\n                      'recall':items['tp_2']/float((items['tp_2']+items['fn_2'])+1)}\n    rows.append(row)\n    \n#     row = {'class':3, 'precision':items['tp_3']/float((items['tp_3']+items['fp_3'])+1),\n#                        'recall':items['tp_3']/float((items['tp_3']+items['fn_3'])+1)}\n#     rows.append(row)\n    return pd.DataFrame(rows)", 
            "metadata": {
                "collapsed": true
            }, 
            "execution_count": 51, 
            "cell_type": "code", 
            "outputs": []
        }, 
        {
            "metadata": {}, 
            "source": "## Binary classification", 
            "cell_type": "markdown"
        }, 
        {
            "metadata": {}, 
            "source": "### LR Model ####", 
            "cell_type": "markdown"
        }, 
        {
            "source": "# define LR model and get predictions\nfrom pyspark.ml.classification import LogisticRegression\n\nlr = LogisticRegression(labelCol='age__c',featuresCol='features',regParam=0.5,maxIter=1000)\nlr_model = lr.fit(train_binary)\n\npredictions_lr = lr_model.transform(test_binary)\nresult = pd.DataFrame(precision_recall(predictions_lr,'age__c','prediction'))\nresult", 
            "metadata": {}, 
            "execution_count": 56, 
            "cell_type": "code", 
            "outputs": [
                {
                    "data": {
                        "text/html": "<div>\n<table border=\"1\" class=\"dataframe\">\n  <thead>\n    <tr style=\"text-align: right;\">\n      <th></th>\n      <th>class</th>\n      <th>precision</th>\n      <th>recall</th>\n    </tr>\n  </thead>\n  <tbody>\n    <tr>\n      <th>0</th>\n      <td>0</td>\n      <td>0.500000</td>\n      <td>0.024194</td>\n    </tr>\n    <tr>\n      <th>1</th>\n      <td>1</td>\n      <td>0.764591</td>\n      <td>0.992424</td>\n    </tr>\n  </tbody>\n</table>\n</div>", 
                        "text/plain": "   class  precision    recall\n0      0   0.500000  0.024194\n1      1   0.764591  0.992424"
                    }, 
                    "metadata": {}, 
                    "execution_count": 56, 
                    "output_type": "execute_result"
                }
            ]
        }, 
        {
            "metadata": {}, 
            "source": "### GBT", 
            "cell_type": "markdown"
        }, 
        {
            "source": "from pyspark.ml.classification import GBTClassifier\n\n# Train a GBT model.\ngbt = GBTClassifier(labelCol=\"age__c\", featuresCol=\"features\", maxIter=10)\ngbt_model = gbt.fit(train_binary)\nresults_gbt = gbt_model.transform(test_binary)\nresults = pd.DataFrame(precision_recall(results_gbt,'age__c','prediction'))\nresults", 
            "metadata": {}, 
            "execution_count": 57, 
            "cell_type": "code", 
            "outputs": [
                {
                    "data": {
                        "text/html": "<div>\n<table border=\"1\" class=\"dataframe\">\n  <thead>\n    <tr style=\"text-align: right;\">\n      <th></th>\n      <th>class</th>\n      <th>precision</th>\n      <th>recall</th>\n    </tr>\n  </thead>\n  <tbody>\n    <tr>\n      <th>0</th>\n      <td>0</td>\n      <td>0.628049</td>\n      <td>0.830645</td>\n    </tr>\n    <tr>\n      <th>1</th>\n      <td>1</td>\n      <td>0.941011</td>\n      <td>0.845960</td>\n    </tr>\n  </tbody>\n</table>\n</div>", 
                        "text/plain": "   class  precision    recall\n0      0   0.628049  0.830645\n1      1   0.941011  0.845960"
                    }, 
                    "metadata": {}, 
                    "execution_count": 57, 
                    "output_type": "execute_result"
                }
            ]
        }, 
        {
            "metadata": {}, 
            "source": "## MultiClass classification", 
            "cell_type": "markdown"
        }, 
        {
            "metadata": {}, 
            "source": "### Logistic regression", 
            "cell_type": "markdown"
        }, 
        {
            "source": "#### Logistic One-vs-all\nfrom pyspark.ml.classification import LogisticRegression, OneVsRest\nfrom pyspark.ml.evaluation import MulticlassClassificationEvaluator\n\n# instantiate the base classifier.\nlr = LogisticRegression(maxIter=10, tol=1E-6, fitIntercept=True,featuresCol='features',labelCol='age__c')\n\n# instantiate and train the One Vs Rest Classifier.\novr = OneVsRest(classifier=lr, featuresCol='features',labelCol='age__c')\novrModel = ovr.fit(train_multi)\n\n# score the model on test data.\npredictions = ovrModel.transform(test_multi)\n\n# obtain evaluator.\nevaluator = MulticlassClassificationEvaluator(metricName=\"f1\",labelCol='age__c')\n\n# compute the classification error on test data.\nf1 = evaluator.evaluate(predictions)\nprint(\"Test Error = %g\" % (1.0 - f1))\nprint (\"Cumulative F1-Score : %.2d\"% f1)\n\nresults = pd.DataFrame(precision_recall_multi(predictions,'age__c','prediction'))\nresults", 
            "metadata": {}, 
            "execution_count": 60, 
            "cell_type": "code", 
            "outputs": [
                {
                    "name": "stdout", 
                    "output_type": "stream", 
                    "text": "Test Error = 0.285178\nCumulative F1-Score : 00\n"
                }, 
                {
                    "data": {
                        "text/html": "<div>\n<table border=\"1\" class=\"dataframe\">\n  <thead>\n    <tr style=\"text-align: right;\">\n      <th></th>\n      <th>class</th>\n      <th>precision</th>\n      <th>recall</th>\n    </tr>\n  </thead>\n  <tbody>\n    <tr>\n      <th>0</th>\n      <td>0</td>\n      <td>0.551020</td>\n      <td>0.313953</td>\n    </tr>\n    <tr>\n      <th>1</th>\n      <td>1</td>\n      <td>0.535211</td>\n      <td>0.387755</td>\n    </tr>\n    <tr>\n      <th>2</th>\n      <td>2</td>\n      <td>0.799486</td>\n      <td>0.956923</td>\n    </tr>\n  </tbody>\n</table>\n</div>", 
                        "text/plain": "   class  precision    recall\n0      0   0.551020  0.313953\n1      1   0.535211  0.387755\n2      2   0.799486  0.956923"
                    }, 
                    "metadata": {}, 
                    "execution_count": 60, 
                    "output_type": "execute_result"
                }
            ]
        }, 
        {
            "metadata": {}, 
            "source": "### Cross validated LR model (compute intensive)", 
            "cell_type": "markdown"
        }, 
        {
            "source": "# from pyspark.ml.tuning import CrossValidator, ParamGridBuilder\n\n# paramGrid = ParamGridBuilder() \\\n#     .addGrid(lr.regParam, [0.1, 0.01,0.5]) \\\n#     .build()\n    \n# crossval = CrossValidator(estimator=ovr,\n#                           estimatorParamMaps=paramGrid,\n#                           evaluator=MulticlassClassificationEvaluator(metricName=\"f1\",labelCol='age__c'),\n#                           numFolds=5)  \n\n# # Run cross-validation, and choose the best set of parameters.\n# cvModel = crossval.fit(train_multi)\n# prediction = cvModel.transform(test_multi)\n# prediction", 
            "metadata": {
                "collapsed": true
            }, 
            "execution_count": 380, 
            "cell_type": "code", 
            "outputs": []
        }, 
        {
            "metadata": {}, 
            "source": "### Decision Tree model", 
            "cell_type": "markdown"
        }, 
        {
            "source": "from pyspark.ml.classification import DecisionTreeClassifier, OneVsRest\nfrom pyspark.ml.evaluation import MulticlassClassificationEvaluator\n\n# instantiate the base classifier.\ndt = DecisionTreeClassifier(labelCol='indexed',featuresCol='features',maxDepth=30)\n# instantiate the One Vs Rest Classifier.\novr = OneVsRest(classifier=dt, featuresCol='features',labelCol='age__c')\n\n# split dataset and train the multiclass model.\novrModel = ovr.fit(train_multi)\n\n# score the model on test data.\npredictions = ovrModel.transform(test_multi)\n\n# obtain evaluator.\nevaluator = MulticlassClassificationEvaluator(metricName=\"f1\",labelCol='age__c')\n\n# compute the classification error on test data.\nf1 = evaluator.evaluate(predictions)\nprint(\"Test Error = %g\" % (1.0 - f1))\n\n\nresult = pd.DataFrame(precision_recall_multi(predictions,'age__c','prediction'))\nresult", 
            "metadata": {}, 
            "execution_count": 61, 
            "cell_type": "code", 
            "outputs": [
                {
                    "name": "stdout", 
                    "output_type": "stream", 
                    "text": "Test Error = 0.287626\n"
                }, 
                {
                    "data": {
                        "text/html": "<div>\n<table border=\"1\" class=\"dataframe\">\n  <thead>\n    <tr style=\"text-align: right;\">\n      <th></th>\n      <th>class</th>\n      <th>precision</th>\n      <th>recall</th>\n    </tr>\n  </thead>\n  <tbody>\n    <tr>\n      <th>0</th>\n      <td>0</td>\n      <td>0.421875</td>\n      <td>0.313953</td>\n    </tr>\n    <tr>\n      <th>1</th>\n      <td>1</td>\n      <td>0.536585</td>\n      <td>0.448980</td>\n    </tr>\n    <tr>\n      <th>2</th>\n      <td>2</td>\n      <td>0.820937</td>\n      <td>0.916923</td>\n    </tr>\n  </tbody>\n</table>\n</div>", 
                        "text/plain": "   class  precision    recall\n0      0   0.421875  0.313953\n1      1   0.536585  0.448980\n2      2   0.820937  0.916923"
                    }, 
                    "metadata": {}, 
                    "execution_count": 61, 
                    "output_type": "execute_result"
                }
            ]
        }, 
        {
            "metadata": {}, 
            "source": "## Alternate workflow  (include product_ids) ####\n", 
            "cell_type": "markdown"
        }, 
        {
            "source": "### add product ids to the set of categorical columns ###\ncategorical = categorical + ['product_name']\ndataset_products = df", 
            "metadata": {
                "collapsed": true
            }, 
            "execution_count": 62, 
            "cell_type": "code", 
            "outputs": []
        }, 
        {
            "source": "if 'indexed' in locals():\n    del locals()['indexed']\nif 'string_encoded' in locals():\n        del locals()['string_encoded']\n        \nfor cat in categorical:\n    stringIndexer = StringIndexer(inputCol=cat,outputCol=cat+'_indexed',handleInvalid='error')\n    if 'indexed' in locals():\n        indexer = stringIndexer.fit(indexed)\n        indexed = indexer.transform(indexed)\n    else:\n        indexer = stringIndexer.fit(dataset_products)\n        indexed = indexer.transform(dataset_products)\nprint (\"####### String Indexing done ########\")\n\nindexed_columns = [col for col in indexed.columns if '_indexed' in col]\nfor col in indexed_columns:\n    encoder = OneHotEncoder(inputCol=col,outputCol=col+'_encoded')\n    if 'string_encoded' in locals():\n        string_encoded = encoder.transform(string_encoded)\n    else:\n        string_encoded = encoder.transform(indexed)\n    \nprint (\"####### One-hot encoding done ########\")", 
            "metadata": {}, 
            "execution_count": 63, 
            "cell_type": "code", 
            "outputs": [
                {
                    "name": "stdout", 
                    "output_type": "stream", 
                    "text": "####### String Indexing done ########\n####### One-hot encoding done ########\n"
                }
            ]
        }, 
        {
            "source": "#feature set is a combination of the one-hot encoded columns from above and integer features determined ealier in the NB\nstring_features = [col for col in string_encoded.columns if '_encoded' in col]\nnumeric_features = integer_columns\nfeature_set = string_features+numeric_features\n\n# define a transformer and apply it on the set\nnumeric_assembler = VectorAssembler(inputCols=numeric_features,outputCol='features_int')\nd1 = numeric_assembler.transform(string_encoded)\nassembler = VectorAssembler(inputCols = string_features+['features_int'],outputCol='features')\ndataset_products = assembler.transform(d1)", 
            "metadata": {
                "collapsed": true
            }, 
            "execution_count": 64, 
            "cell_type": "code", 
            "outputs": []
        }, 
        {
            "source": "def bucket_target(x):\n    if x<=100:\n        return 0 \n    elif x>100 and x<=200:\n        return 1\n    else:\n        return 2\n    \ncompute_target = UserDefinedFunction(lambda x:bucket_target(x), IntegerType())\n\nmodel_data_products = dataset_products.select('age__c','features','product_name','account_name')\nmodel_data_products = model_data_products.filter(model_data_products.age__c>=0)\nmodel_data_products = model_data_products.withColumn('age__c',compute_target(model_data_products['age__c']))", 
            "metadata": {}, 
            "execution_count": 66, 
            "cell_type": "code", 
            "outputs": []
        }, 
        {
            "source": "model_data_products.registerTempTable('igt_data_products')", 
            "metadata": {
                "collapsed": true
            }, 
            "execution_count": 67, 
            "cell_type": "code", 
            "outputs": []
        }, 
        {
            "source": "query = \"\"\"\nselect age__c label, \n       count(1)\nfrom igt_data_products\ngroup by 1\n\"\"\"\nspark.sql(query).toPandas()", 
            "metadata": {}, 
            "execution_count": 68, 
            "cell_type": "code", 
            "outputs": [
                {
                    "data": {
                        "text/html": "<div>\n<table border=\"1\" class=\"dataframe\">\n  <thead>\n    <tr style=\"text-align: right;\">\n      <th></th>\n      <th>label</th>\n      <th>count(1)</th>\n    </tr>\n  </thead>\n  <tbody>\n    <tr>\n      <th>0</th>\n      <td>1</td>\n      <td>307</td>\n    </tr>\n    <tr>\n      <th>1</th>\n      <td>2</td>\n      <td>1100</td>\n    </tr>\n    <tr>\n      <th>2</th>\n      <td>0</td>\n      <td>288</td>\n    </tr>\n  </tbody>\n</table>\n</div>", 
                        "text/plain": "   label  count(1)\n0      1       307\n1      2      1100\n2      0       288"
                    }, 
                    "metadata": {}, 
                    "execution_count": 68, 
                    "output_type": "execute_result"
                }
            ]
        }, 
        {
            "source": "train_multi_products, test_multi_products = model_data_products.randomSplit([0.7,0.3])", 
            "metadata": {
                "collapsed": true
            }, 
            "execution_count": 69, 
            "cell_type": "code", 
            "outputs": []
        }, 
        {
            "metadata": {}, 
            "source": "### One-vs-all classification", 
            "cell_type": "markdown"
        }, 
        {
            "source": "from pyspark.ml.classification import LogisticRegression, OneVsRest\nfrom pyspark.ml.evaluation import MulticlassClassificationEvaluator\n\n# instantiate the base classifier.\nlr = LogisticRegression(maxIter=100, tol=1E-6, fitIntercept=True,featuresCol='features',labelCol='age__c')\n\n# instantiate the One Vs Rest Classifier.\novr = OneVsRest(classifier=lr, featuresCol='features',labelCol='age__c')\n\n# split dataset and train the multiclass model.\novrModel = ovr.fit(train_multi_products)\n\n# score the model on test data.\npredictions = ovrModel.transform(test_multi_products)\n\n# obtain evaluator.\nevaluator = MulticlassClassificationEvaluator(metricName=\"f1\",labelCol='age__c')\n\n# compute the classification error on test data.\nf1 = evaluator.evaluate(predictions)\nprint(\"Test Error = %g\" % (1.0 - f1))\n\nresults = pd.DataFrame(precision_recall_multi(predictions,'age__c','prediction'))\nresults", 
            "metadata": {}, 
            "execution_count": 70, 
            "cell_type": "code", 
            "outputs": [
                {
                    "name": "stdout", 
                    "output_type": "stream", 
                    "text": "Test Error = 0.379355\n"
                }, 
                {
                    "data": {
                        "text/html": "<div>\n<table border=\"1\" class=\"dataframe\">\n  <thead>\n    <tr style=\"text-align: right;\">\n      <th></th>\n      <th>class</th>\n      <th>precision</th>\n      <th>recall</th>\n    </tr>\n  </thead>\n  <tbody>\n    <tr>\n      <th>0</th>\n      <td>0</td>\n      <td>0.433333</td>\n      <td>0.136842</td>\n    </tr>\n    <tr>\n      <th>1</th>\n      <td>1</td>\n      <td>0.405063</td>\n      <td>0.347826</td>\n    </tr>\n    <tr>\n      <th>2</th>\n      <td>2</td>\n      <td>0.738544</td>\n      <td>0.935154</td>\n    </tr>\n  </tbody>\n</table>\n</div>", 
                        "text/plain": "   class  precision    recall\n0      0   0.433333  0.136842\n1      1   0.405063  0.347826\n2      2   0.738544  0.935154"
                    }, 
                    "metadata": {}, 
                    "execution_count": 70, 
                    "output_type": "execute_result"
                }
            ]
        }, 
        {
            "metadata": {}, 
            "source": "### Decision Tree", 
            "cell_type": "markdown"
        }, 
        {
            "source": "from pyspark.ml.classification import DecisionTreeClassifier, OneVsRest\nfrom pyspark.ml.evaluation import MulticlassClassificationEvaluator\n\n# instantiate the base classifier.\ndt = DecisionTreeClassifier(labelCol='indexed',featuresCol='features',maxDepth=30)\n# instantiate the One Vs Rest Classifier.\novr = OneVsRest(classifier=dt, featuresCol='features',labelCol='age__c')\n\n# split dataset and train the multiclass model.\novrModel = ovr.fit(train_multi_products)\n\n# score the model on test data.\npredictions = ovrModel.transform(test_multi_products)\n\n# obtain evaluator.\nevaluator = MulticlassClassificationEvaluator(metricName=\"f1\",labelCol='age__c')\n\n# compute the classification error on test data.\nf1 = evaluator.evaluate(predictions)\nprint(\"Test Error = %g\" % (1.0 - f1))\n\nresult = pd.DataFrame(precision_recall_multi(predictions,'age__c','prediction'))\nresult", 
            "metadata": {}, 
            "execution_count": 71, 
            "cell_type": "code", 
            "outputs": [
                {
                    "name": "stdout", 
                    "output_type": "stream", 
                    "text": "Test Error = 0.261854\n"
                }, 
                {
                    "data": {
                        "text/html": "<div>\n<table border=\"1\" class=\"dataframe\">\n  <thead>\n    <tr style=\"text-align: right;\">\n      <th></th>\n      <th>class</th>\n      <th>precision</th>\n      <th>recall</th>\n    </tr>\n  </thead>\n  <tbody>\n    <tr>\n      <th>0</th>\n      <td>0</td>\n      <td>0.504950</td>\n      <td>0.536842</td>\n    </tr>\n    <tr>\n      <th>1</th>\n      <td>1</td>\n      <td>0.512195</td>\n      <td>0.456522</td>\n    </tr>\n    <tr>\n      <th>2</th>\n      <td>2</td>\n      <td>0.875421</td>\n      <td>0.887372</td>\n    </tr>\n  </tbody>\n</table>\n</div>", 
                        "text/plain": "   class  precision    recall\n0      0   0.504950  0.536842\n1      1   0.512195  0.456522\n2      2   0.875421  0.887372"
                    }, 
                    "metadata": {}, 
                    "execution_count": 71, 
                    "output_type": "execute_result"
                }
            ]
        }, 
        {
            "source": "", 
            "metadata": {
                "collapsed": true
            }, 
            "execution_count": null, 
            "cell_type": "code", 
            "outputs": []
        }
    ], 
    "nbformat_minor": 1
}